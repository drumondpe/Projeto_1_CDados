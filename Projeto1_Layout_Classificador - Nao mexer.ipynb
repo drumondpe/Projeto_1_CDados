{
 "cells": [
  {
   "cell_type": "markdown",
   "metadata": {},
   "source": [
    "# Projeto 1 - Ciência dos Dados"
   ]
  },
  {
   "cell_type": "markdown",
   "metadata": {},
   "source": [
    "Nome: Lourenço Meirelles\n",
    "\n",
    "Nome: Lucca Lima\n",
    "\n",
    "Nome: Pedro Drumond"
   ]
  },
  {
   "cell_type": "markdown",
   "metadata": {},
   "source": [
    "Atenção: Serão permitidos grupos de três pessoas, mas com uma rubrica mais exigente. Grupos deste tamanho precisarão fazer um questionário de avaliação de trabalho em equipe"
   ]
  },
  {
   "cell_type": "markdown",
   "metadata": {},
   "source": [
    "___\n",
    "Carregando algumas bibliotecas:"
   ]
  },
  {
   "cell_type": "code",
   "execution_count": 16,
   "metadata": {},
   "outputs": [],
   "source": [
    "%matplotlib inline\n",
    "import pandas as pd\n",
    "import matplotlib.pyplot as plt\n",
    "import numpy as np\n",
    "import os\n",
    "import re"
   ]
  },
  {
   "cell_type": "code",
   "execution_count": 17,
   "metadata": {
    "scrolled": false
   },
   "outputs": [
    {
     "name": "stdout",
     "output_type": "stream",
     "text": [
      "Esperamos trabalhar no diretório\n",
      "C:\\Users\\Pedro Drumond\\Documents\\Insper 2o semestre\\CDados\\GitHub_CD\\Projeto_1_CDados\n"
     ]
    }
   ],
   "source": [
    "print('Esperamos trabalhar no diretório')\n",
    "print(os.getcwd())"
   ]
  },
  {
   "cell_type": "markdown",
   "metadata": {},
   "source": [
    "Carregando a base de dados com os tweets classificados como relevantes e não relevantes:"
   ]
  },
  {
   "cell_type": "code",
   "execution_count": 18,
   "metadata": {},
   "outputs": [],
   "source": [
    "filename = 'Primevideo.xlsx'"
   ]
  },
  {
   "cell_type": "code",
   "execution_count": 19,
   "metadata": {},
   "outputs": [],
   "source": [
    "train = pd.read_excel(filename)\n",
    "test = pd.read_excel(filename, sheet_name = 'Teste')"
   ]
  },
  {
   "cell_type": "markdown",
   "metadata": {},
   "source": [
    "___\n",
    "## Classificador automático de sentimento\n"
   ]
  },
  {
   "cell_type": "markdown",
   "metadata": {},
   "source": [
    "Faça aqui uma descrição do seu produto e o que considerou como relevante ou não relevante na classificação dos tweets.\n",
    "\n",
    "O Amazon Prime Video é uma plataforma de streaming semelhante à Netflix, na qual você pode acessar um catálogo de filmes, séries, etc... além de disponibilizar outras coisas como o Amazon Prime Music e entre outros.\n",
    "\n",
    "Para classificar, consideramos mensagens \"automáticas\", prontas, divulgando links como 'muito irrelevantes'. Mensagens aleatórias e não relacionadas ao assunto como 'irrelevantes'. Mensagens que elogiassem a plataforma como 'relevantes' e mensagens que elogiassem muito a plataforma como 'muito relevantes'."
   ]
  },
  {
   "cell_type": "markdown",
   "metadata": {},
   "source": [
    "___\n",
    "### Montando um Classificador Naive-Bayes\n",
    "\n",
    "Considerando apenas as mensagens da planilha Treinamento, ensine  seu classificador."
   ]
  },
  {
   "cell_type": "code",
   "execution_count": 20,
   "metadata": {},
   "outputs": [],
   "source": [
    "def cleanup(text):\n",
    "    #import string\n",
    "    punctuation = '[\\n!-.:@?;]' # Note que os sinais [] são delimitadores de um conjunto.\n",
    "    pattern = re.compile(punctuation)\n",
    "    text_subbed = re.sub(pattern, '', text)\n",
    "    return text_subbed\n",
    "    #MELHORAR\n",
    "    \n",
    "#tirar '@'\n",
    "#talvez 'e', 'que'"
   ]
  },
  {
   "cell_type": "code",
   "execution_count": 21,
   "metadata": {},
   "outputs": [],
   "source": [
    "#DAR UMA OLHADA EM PANDAS\n",
    "# Carrega o arquivo de texto\n",
    "# Como ele possui caracteres com acentos, precisamos carregar utilizando o encoding=\"utf8\".\n",
    "primevideo = pd.read_excel('Primevideo.xlsx')\n",
    "primevideo.Classificacao = primevideo.Classificacao.astype('int')\n",
    "primevideo_teste = pd.read_excel('Primevideo.xlsx', sheet_name=1)"
   ]
  },
  {
   "cell_type": "code",
   "execution_count": 22,
   "metadata": {},
   "outputs": [
    {
     "name": "stdout",
     "output_type": "stream",
     "text": [
      "0      @artofesthetic baseado no caso ritchofen, dois...\n",
      "1      @laressa baseado no caso ritchofen, dois filme...\n",
      "2      @popzonebr baseado no caso ritchofen, dois fil...\n",
      "3      @bbb @gshow baseado no caso ritchofen, dois fi...\n",
      "4      @flamengo @davidluiz_4 baseado no caso ritchof...\n",
      "                             ...                        \n",
      "142    @paulaamorim baseado no caso ritchofen, dois f...\n",
      "143    @eulaurakeller @valescaoficial baseado no caso...\n",
      "144    @sepcarloslima @acordadebora um crime real, do...\n",
      "145    @acordadebora um crime real, dois filmes e dua...\n",
      "146    @rolealeatorio baseado no caso ritchofen, dois...\n",
      "Name: Treinamento, Length: 147, dtype: object\n"
     ]
    }
   ],
   "source": [
    "#Criar um DF (DataFrame) para cada classificação\n",
    "\n",
    "#Filtra as linhas, separando cada clasificação em um DF sem ter aplicado o 'CleanUp'\n",
    "filtra_linhas = primevideo.Classificacao == 0\n",
    "primevideo_classfic_0_raw = primevideo.loc[filtra_linhas, 'Treinamento'].reset_index(drop=True)\n",
    "\n",
    "filtra_linhas = primevideo.Classificacao == 1\n",
    "primevideo_classfic_1_raw = primevideo.loc[filtra_linhas, 'Treinamento'].reset_index(drop=True)\n",
    "filtra_linhas = primevideo.Classificacao == 2\n",
    "primevideo_classfic_2_raw = primevideo.loc[filtra_linhas, 'Treinamento'].reset_index(drop=True)\n",
    "filtra_linhas = primevideo.Classificacao == 3\n",
    "primevideo_classfic_3_raw = primevideo.loc[filtra_linhas, 'Treinamento'].reset_index(drop=True)\n",
    "\n",
    "print(primevideo_classfic_0_raw)"
   ]
  },
  {
   "cell_type": "code",
   "execution_count": 23,
   "metadata": {},
   "outputs": [
    {
     "data": {
      "text/plain": [
       "'\\nfor celula in primevideo_classfic_3_raw:\\n    celula_limpa = cleanup(celula.lower()).split()\\n    lista_primevideo_classfic_3 += celula_limpa\\n    print(lista_primevideo_classfic_3)\\n'"
      ]
     },
     "execution_count": 23,
     "metadata": {},
     "output_type": "execute_result"
    }
   ],
   "source": [
    "#For, criando as listas limpas\n",
    "lista_primevideo_classfic_0 = []\n",
    "lista_primevideo_classfic_1 = []\n",
    "lista_primevideo_classfic_2 = []\n",
    "lista_primevideo_classfic_3 = []\n",
    "\n",
    "lista_com_todos_tuites_limpos = []\n",
    "\n",
    "#Cria a lista lista_primevideo_classfic que possui  as classificações de cada categoria\n",
    "lista_tuites = []\n",
    "for celula in primevideo_classfic_0_raw:\n",
    "    \n",
    "    celula_limpa = cleanup(celula.lower())\n",
    "    lista_com_todos_tuites_limpos += celula_limpa\n",
    "    lista_primevideo_classfic_0 += celula_limpa.split()\n",
    "    #print(lista_primevideo_classfic_0)\n",
    "    #lista_tuites.append(celula_limpa.split())\n",
    "    \n",
    "for celula in primevideo_classfic_1_raw:\n",
    "    celula_limpa = cleanup(celula.lower())\n",
    "    lista_com_todos_tuites_limpos += celula_limpa\n",
    "    lista_primevideo_classfic_1 += celula_limpa.split()\n",
    "    #print(lista_primevideo_classfic_1)\n",
    "    #lista_tuites.append(celula_limpa.split())\n",
    "    \n",
    "for celula in primevideo_classfic_2_raw:\n",
    "    celula_limpa = cleanup(celula.lower())\n",
    "    lista_com_todos_tuites_limpos += celula_limpa\n",
    "    lista_primevideo_classfic_2 += celula_limpa.split()\n",
    "    #print(lista_primevideo_classfic_2)\n",
    "    #lista_tuites.append(celula_limpa.split())\n",
    "    \n",
    "for celula in primevideo_classfic_3_raw:\n",
    "    celula_limpa = cleanup(celula.lower())\n",
    "    lista_com_todos_tuites_limpos += celula_limpa\n",
    "    lista_primevideo_classfic_3 += celula_limpa.split()\n",
    "    #print(lista_primevideo_classfic_3)\n",
    "    #lista_tuites.append(celula_limpa.split())\n",
    "    \n",
    "'''\n",
    "for celula in primevideo_classfic_3_raw:\n",
    "    celula_limpa = cleanup(celula.lower()).split()\n",
    "    lista_primevideo_classfic_3 += celula_limpa\n",
    "    print(lista_primevideo_classfic_3)\n",
    "'''\n",
    "\n"
   ]
  },
  {
   "cell_type": "code",
   "execution_count": 24,
   "metadata": {},
   "outputs": [],
   "source": [
    "# cria a lista tuite a partir da planilha Teste\n",
    "for tuite in primevideo_teste['Teste']:\n",
    "    celula_limpa = cleanup(tuite.lower())\n",
    "    lista_tuites.append(celula_limpa.split())"
   ]
  },
  {
   "cell_type": "code",
   "execution_count": 25,
   "metadata": {},
   "outputs": [],
   "source": [
    "#Convertendo as tabelas para pd.Series\n",
    "\n",
    "classfic_0 = pd.Series(lista_primevideo_classfic_0)\n",
    "classfic_1 = pd.Series(lista_primevideo_classfic_1)\n",
    "classfic_2 = pd.Series(lista_primevideo_classfic_2)\n",
    "classfic_3 = pd.Series(lista_primevideo_classfic_3)"
   ]
  },
  {
   "cell_type": "code",
   "execution_count": 26,
   "metadata": {},
   "outputs": [
    {
     "data": {
      "text/plain": [
       "e                        248\n",
       "prime                    225\n",
       "primevideo               208\n",
       "a                        207\n",
       "que                      198\n",
       "                        ... \n",
       "ansiosamente               1\n",
       "convivem                   1\n",
       "https//tco/qoiidkvfmj      1\n",
       "multishow                  1\n",
       "high                       1\n",
       "Length: 2552, dtype: int64"
      ]
     },
     "execution_count": 26,
     "metadata": {},
     "output_type": "execute_result"
    }
   ],
   "source": [
    "#Tabelas de contagem de ocorrencias em cada tabela, usando o value_counts()\n",
    "tabela_0 = classfic_0.value_counts()\n",
    "tabela_1 = classfic_1.value_counts()\n",
    "tabela_2 = classfic_2.value_counts()\n",
    "tabela_3 = classfic_3.value_counts()\n",
    "\n",
    "#Juntando todos os tuítes\n",
    "todos_tuites = lista_primevideo_classfic_0 + lista_primevideo_classfic_1 + lista_primevideo_classfic_2 + lista_primevideo_classfic_3\n",
    "#Criando tabela dos tuítes usando o pd.Series\n",
    "todos_tuites_lista = pd.Series(todos_tuites)\n",
    "tabela_todos_tuites = todos_tuites_lista.value_counts()\n",
    "tabela_todos_tuites\n",
    "#tabela_classific_0\n",
    "\n",
    "#ACHO QUE VAMOS TER QUE USAR TABELA RELATIVA PORQUE TEMOS MAIS AVALIAÇÕES EM UNS DO QUE OUTROS, VER ISSO!"
   ]
  },
  {
   "cell_type": "code",
   "execution_count": null,
   "metadata": {},
   "outputs": [],
   "source": []
  },
  {
   "cell_type": "code",
   "execution_count": 27,
   "metadata": {},
   "outputs": [],
   "source": [
    "prob_ser_0 = len(classfic_0)/len(tabela_todos_tuites)\n",
    "prob_ser_1 = len(classfic_1)/len(tabela_todos_tuites)\n",
    "prob_ser_2 = len(classfic_2)/len(tabela_todos_tuites)\n",
    "prob_ser_3 = len(classfic_3)/len(tabela_todos_tuites)"
   ]
  },
  {
   "cell_type": "code",
   "execution_count": 28,
   "metadata": {},
   "outputs": [],
   "source": [
    "classificacao_final = []\n",
    "for tuite in lista_tuites:\n",
    "    prob_0 = 1\n",
    "    prob_1 = 1\n",
    "    prob_2 = 1\n",
    "    prob_3 = 1\n",
    "    \n",
    "    #dentro desse FOR teremos: -probabilidade das palavras, -descobre todas as probabilidades, -aplica La Place, -descobre qual a classificacao\n",
    "    for palavra in tuite:\n",
    "        \n",
    "        #LA PLACE\n",
    "        if palavra not in tabela_0:\n",
    "            prob_0 *= 1/(len(classfic_0) + len(tabela_todos_tuites)) \n",
    "            #/todas as palavras na categoria + todas as palavras de todas as categorias (sem repetição)\n",
    "            #acho que não está pegando todas as palavras ta tabela 0           \n",
    "        elif palavra in tabela_0:\n",
    "            prob_0 *= (tabela_0[palavra] + 1)/(len(classfic_0) + len(tabela_todos_tuites))\n",
    "        \n",
    "        if palavra not in tabela_1:\n",
    "            prob_1 *= 1/(len(classfic_1) + len(tabela_todos_tuites)) #talvez seja a tabela errada, rever porque isso é do 'Treinamento'\n",
    "                          #quantida de palavras na categoria 1 + quantidade de palavras no total\n",
    "        elif palavra in tabela_1:\n",
    "            prob_1 *= (tabela_1[palavra] + 1)/(len(classfic_1) + len(tabela_todos_tuites))\n",
    "        \n",
    "        if palavra not in tabela_2:\n",
    "            prob_2 *= 1/(len(classfic_2) + len(tabela_todos_tuites)) #talvez seja a tabela errada, rever porque isso é do 'Treinamento'\n",
    "        elif palavra in tabela_2:\n",
    "            prob_2 *= (tabela_2[palavra] + 1)/(len(classfic_2) + len(tabela_todos_tuites))\n",
    "        \n",
    "        if palavra not in tabela_3:\n",
    "            prob_3 *= 1/(len(classfic_3) + len(tabela_todos_tuites)) #talvez seja a tabela errada, rever porque isso é do 'Treinamento'\n",
    "        elif palavra in tabela_3:\n",
    "            prob_3 *= (tabela_3[palavra] + 1)/(len(classfic_3) + len(tabela_todos_tuites))\n",
    "        \n",
    "    #cálculo das probabilidades\n",
    "    prob_tuite_dado_0 = prob_0 * prob_ser_0\n",
    "    prob_tuite_dado_1 = prob_1 * prob_ser_1\n",
    "    prob_tuite_dado_2 = prob_2 * prob_ser_2\n",
    "    prob_tuite_dado_3 = prob_3 * prob_ser_3\n",
    "\n",
    "    #COMPARAÇÃO ENTRE OS RESULTADOS DE LA PLACE PARA CADA CATEGORIA\n",
    "    if prob_tuite_dado_0 > prob_tuite_dado_1 and prob_tuite_dado_0 > prob_tuite_dado_2 and prob_tuite_dado_0 > prob_tuite_dado_3:\n",
    "        #print(prob_0)\n",
    "        classificacao_final.append(0)\n",
    "        #adicionar na coluna no excel\n",
    "            \n",
    "    elif prob_tuite_dado_1 > prob_tuite_dado_0 and prob_tuite_dado_1 > prob_tuite_dado_2 and prob_tuite_dado_1 > prob_tuite_dado_3:\n",
    "        #print(prob_1)\n",
    "        classificacao_final.append(1)\n",
    "            \n",
    "    elif prob_tuite_dado_2 > prob_tuite_dado_0 and prob_tuite_dado_2 > prob_tuite_dado_1 and prob_tuite_dado_2 > prob_tuite_dado_3:\n",
    "        #print(prob_2)\n",
    "        classificacao_final.append(2)\n",
    "            \n",
    "    elif prob_tuite_dado_3 > prob_tuite_dado_0 and prob_tuite_dado_3 > prob_tuite_dado_1 and prob_tuite_dado_3 > prob_tuite_dado_2:\n",
    "        #print(prob_3)\n",
    "        classificacao_final.append(3)\n",
    "        \n",
    "        # denominador: ocorrencia da palavra na categoria + 1 / todas as palavras na categoria + todas as palavras de todas as categorias (sem repetição)\n",
    "        # prob_A_dado_B = prob_B_dado_A * prob_ser_0\n",
    "    \n",
    "        \n",
    "        \n",
    "        #Chama função que faz o calculo de P_classificação_dado_tuite:\n",
    "        \n",
    "        #prob_0_dado_tuite = prob_0 * ( len(tabela_0) / len(tabela_todos_tuites )\n",
    "        #                                                        esse len() está errado\n",
    "        \n",
    "        '''\n",
    "        prob_0_dado_tuite = calcula_prob_classific_dado_tuite(prob_0, len(tabela_0), len(tabela_todos_tuites))\n",
    "        prob_1_dado_tuite = calcula_prob_classific_dado_tuite(prob_1, len(tabela_1), len(tabela_todos_tuites))\n",
    "        prob_2_dado_tuite = calcula_prob_classific_dado_tuite(prob_2, len(tabela_2), len(tabela_todos_tuites))\n",
    "        prob_3_dado_tuite = calcula_prob_classific_dado_tuite(prob_3, len(tabela_3), len(tabela_todos_tuites))\n",
    "        '''\n",
    "\n",
    "\n",
    "#FAZER ALGUMA COISA COM O 'classificacao_final' QUE É UMA TABELA COM AS CLASSIFICAÇÕES"
   ]
  },
  {
   "cell_type": "code",
   "execution_count": 31,
   "metadata": {},
   "outputs": [
    {
     "data": {
      "text/html": [
       "<div>\n",
       "<style scoped>\n",
       "    .dataframe tbody tr th:only-of-type {\n",
       "        vertical-align: middle;\n",
       "    }\n",
       "\n",
       "    .dataframe tbody tr th {\n",
       "        vertical-align: top;\n",
       "    }\n",
       "\n",
       "    .dataframe thead th {\n",
       "        text-align: right;\n",
       "    }\n",
       "</style>\n",
       "<table border=\"1\" class=\"dataframe\">\n",
       "  <thead>\n",
       "    <tr style=\"text-align: right;\">\n",
       "      <th>Resultado Classificador</th>\n",
       "      <th>0</th>\n",
       "      <th>1</th>\n",
       "      <th>2</th>\n",
       "      <th>3</th>\n",
       "      <th>All</th>\n",
       "    </tr>\n",
       "    <tr>\n",
       "      <th>Classificação</th>\n",
       "      <th></th>\n",
       "      <th></th>\n",
       "      <th></th>\n",
       "      <th></th>\n",
       "      <th></th>\n",
       "    </tr>\n",
       "  </thead>\n",
       "  <tbody>\n",
       "    <tr>\n",
       "      <th>0</th>\n",
       "      <td>49</td>\n",
       "      <td>20</td>\n",
       "      <td>5</td>\n",
       "      <td>7</td>\n",
       "      <td>81</td>\n",
       "    </tr>\n",
       "    <tr>\n",
       "      <th>1</th>\n",
       "      <td>7</td>\n",
       "      <td>94</td>\n",
       "      <td>20</td>\n",
       "      <td>8</td>\n",
       "      <td>129</td>\n",
       "    </tr>\n",
       "    <tr>\n",
       "      <th>2</th>\n",
       "      <td>1</td>\n",
       "      <td>13</td>\n",
       "      <td>35</td>\n",
       "      <td>3</td>\n",
       "      <td>52</td>\n",
       "    </tr>\n",
       "    <tr>\n",
       "      <th>3</th>\n",
       "      <td>1</td>\n",
       "      <td>6</td>\n",
       "      <td>18</td>\n",
       "      <td>12</td>\n",
       "      <td>37</td>\n",
       "    </tr>\n",
       "    <tr>\n",
       "      <th>All</th>\n",
       "      <td>58</td>\n",
       "      <td>133</td>\n",
       "      <td>78</td>\n",
       "      <td>30</td>\n",
       "      <td>299</td>\n",
       "    </tr>\n",
       "  </tbody>\n",
       "</table>\n",
       "</div>"
      ],
      "text/plain": [
       "Resultado Classificador   0    1   2   3  All\n",
       "Classificação                                \n",
       "0                        49   20   5   7   81\n",
       "1                         7   94  20   8  129\n",
       "2                         1   13  35   3   52\n",
       "3                         1    6  18  12   37\n",
       "All                      58  133  78  30  299"
      ]
     },
     "execution_count": 31,
     "metadata": {},
     "output_type": "execute_result"
    }
   ],
   "source": [
    "#VERIFICANDO A PERFORMANCE\n",
    "\n",
    "classificacao_final\n",
    "classificacao_final_pd = pd.Series(classificacao_final)\n",
    "primevideo_teste['Resultado Classificador'] = classificacao_final_pd\n",
    "primevideo_teste.tail(20)\n",
    "\n",
    "pd.crosstab(primevideo_teste['Classificação'], primevideo_teste['Resultado Classificador'], margins=True)#linha e coluna"
   ]
  },
  {
   "cell_type": "code",
   "execution_count": 54,
   "metadata": {},
   "outputs": [
    {
     "data": {
      "text/html": [
       "<div>\n",
       "<style scoped>\n",
       "    .dataframe tbody tr th:only-of-type {\n",
       "        vertical-align: middle;\n",
       "    }\n",
       "\n",
       "    .dataframe tbody tr th {\n",
       "        vertical-align: top;\n",
       "    }\n",
       "\n",
       "    .dataframe thead th {\n",
       "        text-align: right;\n",
       "    }\n",
       "</style>\n",
       "<table border=\"1\" class=\"dataframe\">\n",
       "  <thead>\n",
       "    <tr style=\"text-align: right;\">\n",
       "      <th>Resultado Classificador</th>\n",
       "      <th>0</th>\n",
       "      <th>1</th>\n",
       "      <th>2</th>\n",
       "      <th>3</th>\n",
       "    </tr>\n",
       "    <tr>\n",
       "      <th>Classificação</th>\n",
       "      <th></th>\n",
       "      <th></th>\n",
       "      <th></th>\n",
       "      <th></th>\n",
       "    </tr>\n",
       "  </thead>\n",
       "  <tbody>\n",
       "    <tr>\n",
       "      <th>0</th>\n",
       "      <td>1.00</td>\n",
       "      <td>4.68</td>\n",
       "      <td>16.72</td>\n",
       "      <td>4.68</td>\n",
       "    </tr>\n",
       "    <tr>\n",
       "      <th>1</th>\n",
       "      <td>1.34</td>\n",
       "      <td>8.36</td>\n",
       "      <td>25.75</td>\n",
       "      <td>7.69</td>\n",
       "    </tr>\n",
       "    <tr>\n",
       "      <th>2</th>\n",
       "      <td>0.00</td>\n",
       "      <td>1.00</td>\n",
       "      <td>8.36</td>\n",
       "      <td>8.03</td>\n",
       "    </tr>\n",
       "    <tr>\n",
       "      <th>3</th>\n",
       "      <td>0.33</td>\n",
       "      <td>0.33</td>\n",
       "      <td>6.02</td>\n",
       "      <td>5.69</td>\n",
       "    </tr>\n",
       "  </tbody>\n",
       "</table>\n",
       "</div>"
      ],
      "text/plain": [
       "Resultado Classificador     0     1      2     3\n",
       "Classificação                                   \n",
       "0                        1.00  4.68  16.72  4.68\n",
       "1                        1.34  8.36  25.75  7.69\n",
       "2                        0.00  1.00   8.36  8.03\n",
       "3                        0.33  0.33   6.02  5.69"
      ]
     },
     "execution_count": 54,
     "metadata": {},
     "output_type": "execute_result"
    }
   ],
   "source": [
    "pd.crosstab(primevideo_teste['Classificação'], primevideo_teste['Resultado Classificador'], normalize=True).round(4)*100#linha e coluna"
   ]
  },
  {
   "cell_type": "markdown",
   "metadata": {},
   "source": [
    "*ANÁLISE CRÍTICA:*\n",
    "\n",
    "Nosso classificador conseguiu distinguir bem as classificações entre 0 e 1, provavelmente porque \n",
    "possuem a maior frequência dentre todas as classificações, assim ele \"aprende\" melhor as diferenças \n",
    "dessas duas classificações.\n",
    "Apesar de ele ter acertado algumas entre 2 e 3, sua precisão foi inferior comparado as duas primeiras\n",
    "classificações, provavelmente devido à menor quantidade de tweets dentro dessas classificações, dificultando\n",
    "o \"aprendizado\" do classificador. Porém, mesmo com esse déficit, a maior quantidade foi de acertos.\n",
    "\n",
    "O nosso classificador não é capaz de identificar a diferença das mensagens de dupla negação e sarcasmo.\n",
    "Pois ele avalia as pelavras individualmente, as tirando do contexto da frase (tweet), considerando apenas\n",
    "suas ocorrências.\n",
    "\n",
    "Vocês devem continuar ou melhorar o financiando do nosso projeto porque com o aumento investimento seria\n",
    "possível coletar mais tweets, principalmente de classificação 2 e 3, melhorando o \"aprendizado\" do \n",
    "classificador e possivelmente criar mais classificações, o deixando mais preciso.\n",
    "\n",
    "\n",
    "\n"
   ]
  },
  {
   "cell_type": "markdown",
   "metadata": {},
   "source": [
    "*POR QUE NÃO PODEMOS USAR NOSSO CLASSIFICADOR PARA GERAR MAIS AMOSTRAS DE TREINAMENTO?*\n",
    "\n",
    "Não é possível utilizar o classificador para gerar mais amostras de treinamento porque\n",
    "a interpretação dele é diferente da nossa, ele é capaz de aprender as probabilidades\n",
    "das palavras de nossas interpretações, não interpretar.\n",
    "\n",
    "Além disso, ainda há certas coisas que o classificador está categorizando erroneamente, seria possível corrigí-las aumentando a quantidade de tweets em seu aprendizado."
   ]
  },
  {
   "cell_type": "markdown",
   "metadata": {},
   "source": [
    "melhorar - *DIFERENTES CENÁRIOS PARA NAIVE BAYES FORA DO CONTEXTO DO PROJETO:*\n",
    "- Fazer previsões em tempo real\n",
    "- Prever se um usuário gostaria de um determinado recurso ou não"
   ]
  },
  {
   "cell_type": "markdown",
   "metadata": {},
   "source": [
    "melhorar - *MELHORIAS REAIS:*\n",
    "- Melhorar os critérios das classificações do aprendizado\n",
    "- Aumentar o número de classificações\n",
    "- Aumentar a quantidade de dados coletados (tweets)"
   ]
  },
  {
   "cell_type": "code",
   "execution_count": 1,
   "metadata": {},
   "outputs": [
    {
     "data": {
      "text/plain": [
       "'\\nCONCEITO A:\\n- Melhorar o cleanup()\\n- Corrigir espaçamento nos tuítes\\n- Explicar porque não podemos usar nosso classificador para gerar mais amostras de treinamento\\n- Difirentes cenários para Naive Bayes fora do contexto do projeto\\n- Sugerir melhorias reais \\n- \\n'"
      ]
     },
     "execution_count": 1,
     "metadata": {},
     "output_type": "execute_result"
    }
   ],
   "source": [
    "'''\n",
    "CONCEITO A:\n",
    "- Melhorar o cleanup()\n",
    "- Corrigir espaçamento nos tuítes\n",
    "- \n",
    "'''"
   ]
  },
  {
   "cell_type": "markdown",
   "metadata": {},
   "source": [
    "___\n",
    "### Verificando a performance do Classificador\n",
    "\n",
    "Agora você deve testar o seu classificador com a base de Testes."
   ]
  },
  {
   "cell_type": "code",
   "execution_count": null,
   "metadata": {},
   "outputs": [],
   "source": []
  },
  {
   "cell_type": "code",
   "execution_count": null,
   "metadata": {},
   "outputs": [],
   "source": []
  },
  {
   "cell_type": "code",
   "execution_count": null,
   "metadata": {},
   "outputs": [],
   "source": []
  },
  {
   "cell_type": "markdown",
   "metadata": {},
   "source": [
    "___\n",
    "### Concluindo"
   ]
  },
  {
   "cell_type": "code",
   "execution_count": null,
   "metadata": {},
   "outputs": [],
   "source": []
  },
  {
   "cell_type": "code",
   "execution_count": null,
   "metadata": {},
   "outputs": [],
   "source": []
  },
  {
   "cell_type": "code",
   "execution_count": null,
   "metadata": {},
   "outputs": [],
   "source": []
  },
  {
   "cell_type": "markdown",
   "metadata": {},
   "source": [
    "___\n",
    "### Qualidade do Classificador a partir de novas separações dos tweets entre Treinamento e Teste\n",
    "\n",
    "Caso for fazer esse item do Projeto"
   ]
  },
  {
   "cell_type": "code",
   "execution_count": null,
   "metadata": {},
   "outputs": [],
   "source": []
  },
  {
   "cell_type": "code",
   "execution_count": null,
   "metadata": {},
   "outputs": [],
   "source": []
  },
  {
   "cell_type": "code",
   "execution_count": null,
   "metadata": {},
   "outputs": [],
   "source": []
  },
  {
   "cell_type": "markdown",
   "metadata": {},
   "source": [
    "___\n",
    "## Aperfeiçoamento:\n",
    "\n",
    "Trabalhos que conseguirem pelo menos conceito B vão evoluir em conceito dependendo da quantidade de itens avançados:\n",
    "\n",
    "* IMPLEMENTOU outras limpezas e transformações que não afetem a qualidade da informação contida nos tweets. Ex: stemming, lemmatization, stopwords\n",
    "* CORRIGIU separação de espaços entre palavras e emojis ou entre emojis e emojis\n",
    "* CRIOU categorias intermediárias de relevância baseadas na probabilidade: ex.: muito relevante, relevante, neutro, irrelevante, muito irrelevante. Pelo menos quatro categorias, com adição de mais tweets na base, conforme enunciado. (OBRIGATÓRIO PARA TRIOS, sem contar como item avançado)\n",
    "* EXPLICOU porquê não pode usar o próprio classificador para gerar mais amostras de treinamento\n",
    "* PROPÔS diferentes cenários para Naïve Bayes fora do contexto do projeto\n",
    "* SUGERIU e EXPLICOU melhorias reais com indicações concretas de como implementar (indicar como fazer e indicar material de pesquisa)\n",
    "* FEZ o item 6. Qualidade do Classificador a partir de novas separações dos tweets entre Treinamento e Teste descrito no enunciado do projeto (OBRIGATÓRIO para conceitos A ou A+)"
   ]
  },
  {
   "cell_type": "markdown",
   "metadata": {},
   "source": [
    "___\n",
    "## Referências"
   ]
  },
  {
   "cell_type": "markdown",
   "metadata": {},
   "source": [
    "[Naive Bayes and Text Classification](https://arxiv.org/pdf/1410.5329.pdf)  **Mais completo**\n",
    "\n",
    "[A practical explanation of a Naive Bayes Classifier](https://monkeylearn.com/blog/practical-explanation-naive-bayes-classifier/) **Mais simples**"
   ]
  },
  {
   "cell_type": "code",
   "execution_count": null,
   "metadata": {},
   "outputs": [],
   "source": []
  }
 ],
 "metadata": {
  "kernelspec": {
   "display_name": "Python 3",
   "language": "python",
   "name": "python3"
  },
  "language_info": {
   "codemirror_mode": {
    "name": "ipython",
    "version": 3
   },
   "file_extension": ".py",
   "mimetype": "text/x-python",
   "name": "python",
   "nbconvert_exporter": "python",
   "pygments_lexer": "ipython3",
   "version": "3.7.6"
  }
 },
 "nbformat": 4,
 "nbformat_minor": 4
}
