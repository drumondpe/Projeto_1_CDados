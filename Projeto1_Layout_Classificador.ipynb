{
 "cells": [
  {
   "cell_type": "markdown",
   "metadata": {},
   "source": [
    "# Projeto 1 - Ciência dos Dados"
   ]
  },
  {
   "cell_type": "markdown",
   "metadata": {},
   "source": [
    "Nome: Lourenço Meirelles\n",
    "\n",
    "Nome: Lucca Lima\n",
    "\n",
    "Nome: Pedro Gomes de Sá Drumond"
   ]
  },
  {
   "cell_type": "markdown",
   "metadata": {},
   "source": [
    "Atenção: Serão permitidos grupos de três pessoas, mas com uma rubrica mais exigente. Grupos deste tamanho precisarão fazer um questionário de avaliação de trabalho em equipe"
   ]
  },
  {
   "cell_type": "markdown",
   "metadata": {},
   "source": [
    "___\n",
    "Carregando algumas bibliotecas:"
   ]
  },
  {
   "cell_type": "code",
   "execution_count": 1,
   "metadata": {},
   "outputs": [],
   "source": [
    "%matplotlib inline\n",
    "import pandas as pd\n",
    "import matplotlib.pyplot as plt\n",
    "import numpy as np\n",
    "import os\n",
    "import re"
   ]
  },
  {
   "cell_type": "code",
   "execution_count": 2,
   "metadata": {
    "scrolled": false
   },
   "outputs": [
    {
     "name": "stdout",
     "output_type": "stream",
     "text": [
      "Esperamos trabalhar no diretório\n",
      "C:\\Users\\Pedro Drumond\\Documents\\Insper 2o semestre\\CDados\\GitHub_CD\\Projeto_1_CDados\n"
     ]
    }
   ],
   "source": [
    "print('Esperamos trabalhar no diretório')\n",
    "print(os.getcwd())"
   ]
  },
  {
   "cell_type": "markdown",
   "metadata": {},
   "source": [
    "Carregando a base de dados com os tweets classificados como relevantes e não relevantes:"
   ]
  },
  {
   "cell_type": "code",
   "execution_count": 3,
   "metadata": {},
   "outputs": [],
   "source": [
    "filename = 'Primevideo.xlsx'"
   ]
  },
  {
   "cell_type": "code",
   "execution_count": 4,
   "metadata": {},
   "outputs": [
    {
     "data": {
      "text/html": [
       "<div>\n",
       "<style scoped>\n",
       "    .dataframe tbody tr th:only-of-type {\n",
       "        vertical-align: middle;\n",
       "    }\n",
       "\n",
       "    .dataframe tbody tr th {\n",
       "        vertical-align: top;\n",
       "    }\n",
       "\n",
       "    .dataframe thead th {\n",
       "        text-align: right;\n",
       "    }\n",
       "</style>\n",
       "<table border=\"1\" class=\"dataframe\">\n",
       "  <thead>\n",
       "    <tr style=\"text-align: right;\">\n",
       "      <th></th>\n",
       "      <th>Treinamento</th>\n",
       "      <th>Classificacao</th>\n",
       "    </tr>\n",
       "  </thead>\n",
       "  <tbody>\n",
       "    <tr>\n",
       "      <th>0</th>\n",
       "      <td>\"eu sou mais eu\" não tem roteiro criativo, par...</td>\n",
       "      <td>2</td>\n",
       "    </tr>\n",
       "    <tr>\n",
       "      <th>1</th>\n",
       "      <td>#nineperfectstrangers \\nsérie muito boa no @pr...</td>\n",
       "      <td>3</td>\n",
       "    </tr>\n",
       "    <tr>\n",
       "      <th>2</th>\n",
       "      <td>#primevideo  quero uma sequência pra ontem de ...</td>\n",
       "      <td>2</td>\n",
       "    </tr>\n",
       "    <tr>\n",
       "      <th>3</th>\n",
       "      <td>@camila_cabello @cinderella @primevideo amei p...</td>\n",
       "      <td>3</td>\n",
       "    </tr>\n",
       "    <tr>\n",
       "      <th>4</th>\n",
       "      <td>@camila_cabello @cinderella @primevideo bravo!👏</td>\n",
       "      <td>3</td>\n",
       "    </tr>\n",
       "  </tbody>\n",
       "</table>\n",
       "</div>"
      ],
      "text/plain": [
       "                                         Treinamento  Classificacao\n",
       "0  \"eu sou mais eu\" não tem roteiro criativo, par...              2\n",
       "1  #nineperfectstrangers \\nsérie muito boa no @pr...              3\n",
       "2  #primevideo  quero uma sequência pra ontem de ...              2\n",
       "3  @camila_cabello @cinderella @primevideo amei p...              3\n",
       "4    @camila_cabello @cinderella @primevideo bravo!👏              3"
      ]
     },
     "execution_count": 4,
     "metadata": {},
     "output_type": "execute_result"
    }
   ],
   "source": [
    "train = pd.read_excel(filename)\n",
    "train.head(5)"
   ]
  },
  {
   "cell_type": "code",
   "execution_count": 5,
   "metadata": {},
   "outputs": [
    {
     "data": {
      "text/html": [
       "<div>\n",
       "<style scoped>\n",
       "    .dataframe tbody tr th:only-of-type {\n",
       "        vertical-align: middle;\n",
       "    }\n",
       "\n",
       "    .dataframe tbody tr th {\n",
       "        vertical-align: top;\n",
       "    }\n",
       "\n",
       "    .dataframe thead th {\n",
       "        text-align: right;\n",
       "    }\n",
       "</style>\n",
       "<table border=\"1\" class=\"dataframe\">\n",
       "  <thead>\n",
       "    <tr style=\"text-align: right;\">\n",
       "      <th></th>\n",
       "      <th>Teste</th>\n",
       "      <th>Classificação</th>\n",
       "    </tr>\n",
       "  </thead>\n",
       "  <tbody>\n",
       "    <tr>\n",
       "      <th>0</th>\n",
       "      <td>@janainadobrasil esse daqui é a melhor opção p...</td>\n",
       "      <td>1</td>\n",
       "    </tr>\n",
       "    <tr>\n",
       "      <th>1</th>\n",
       "      <td>@camila_cabello @primevideo ficou lindo, te amo</td>\n",
       "      <td>1</td>\n",
       "    </tr>\n",
       "    <tr>\n",
       "      <th>2</th>\n",
       "      <td>@camila_cabello @cinderella @primevideo linda!...</td>\n",
       "      <td>1</td>\n",
       "    </tr>\n",
       "    <tr>\n",
       "      <th>3</th>\n",
       "      <td>@camila_cabello @cinderella @primevideo ta lin...</td>\n",
       "      <td>1</td>\n",
       "    </tr>\n",
       "    <tr>\n",
       "      <th>4</th>\n",
       "      <td>@camilizecabello @mannytsakanika @cinderella @...</td>\n",
       "      <td>1</td>\n",
       "    </tr>\n",
       "  </tbody>\n",
       "</table>\n",
       "</div>"
      ],
      "text/plain": [
       "                                               Teste  Classificação\n",
       "0  @janainadobrasil esse daqui é a melhor opção p...              1\n",
       "1    @camila_cabello @primevideo ficou lindo, te amo              1\n",
       "2  @camila_cabello @cinderella @primevideo linda!...              1\n",
       "3  @camila_cabello @cinderella @primevideo ta lin...              1\n",
       "4  @camilizecabello @mannytsakanika @cinderella @...              1"
      ]
     },
     "execution_count": 5,
     "metadata": {},
     "output_type": "execute_result"
    }
   ],
   "source": [
    "test = pd.read_excel(filename, sheet_name = 'Teste')\n",
    "test.head(5)"
   ]
  },
  {
   "cell_type": "markdown",
   "metadata": {},
   "source": [
    "___\n",
    "## Classificador automático de sentimento\n"
   ]
  },
  {
   "cell_type": "markdown",
   "metadata": {},
   "source": [
    "Faça aqui uma descrição do seu produto e o que considerou como relevante ou não relevante na classificação dos tweets.\n",
    "\n",
    "O Amazon Prime Video é uma plataforma de streaming semelhante à Netflix, na qual você pode acessar um catálogo de filmes, séries, etc... além de disponibilizar outras coisas como o Amazon Prime Music e entre outros.\n",
    "\n",
    "Para classificar, consideramos mensagens que elogiassem a plataforma como relevante, e o resto como irrelevante."
   ]
  },
  {
   "cell_type": "markdown",
   "metadata": {},
   "source": [
    "___\n",
    "### Montando um Classificador Naive-Bayes\n",
    "\n",
    "Considerando apenas as mensagens da planilha Treinamento, ensine  seu classificador."
   ]
  },
  {
   "cell_type": "code",
   "execution_count": 6,
   "metadata": {},
   "outputs": [],
   "source": [
    "def cleanup(text):\n",
    "    #import string\n",
    "    punctuation = '[!-.:?;]' # Note que os sinais [] são delimitadores de um conjunto.\n",
    "    pattern = re.compile(punctuation)\n",
    "    text_subbed = re.sub(pattern, '', text)\n",
    "    return text_subbed\n",
    "    #MELHORAR\n",
    "    \n",
    "#tirar '@'\n",
    "#talvez 'e', 'que'"
   ]
  },
  {
   "cell_type": "code",
   "execution_count": 7,
   "metadata": {},
   "outputs": [],
   "source": [
    "#PRECISAMOS DE:\n",
    "\n",
    "#P(mensagens relevantes | classificadas como relevantes)\n",
    "#P(mensagens irrelevantes | classificadas como relevantes)\n",
    "#P(mensagens irrelevantes | classificadas como irrelevantes)\n",
    "#P(mensagens relevantes | classificadas como irrelevantes)\n",
    "#Acurácia ?"
   ]
  },
  {
   "cell_type": "code",
   "execution_count": 8,
   "metadata": {},
   "outputs": [
    {
     "data": {
      "text/html": [
       "<div>\n",
       "<style scoped>\n",
       "    .dataframe tbody tr th:only-of-type {\n",
       "        vertical-align: middle;\n",
       "    }\n",
       "\n",
       "    .dataframe tbody tr th {\n",
       "        vertical-align: top;\n",
       "    }\n",
       "\n",
       "    .dataframe thead th {\n",
       "        text-align: right;\n",
       "    }\n",
       "</style>\n",
       "<table border=\"1\" class=\"dataframe\">\n",
       "  <thead>\n",
       "    <tr style=\"text-align: right;\">\n",
       "      <th></th>\n",
       "      <th>Treinamento</th>\n",
       "      <th>Classificacao</th>\n",
       "    </tr>\n",
       "  </thead>\n",
       "  <tbody>\n",
       "    <tr>\n",
       "      <th>0</th>\n",
       "      <td>\"eu sou mais eu\" não tem roteiro criativo, par...</td>\n",
       "      <td>2</td>\n",
       "    </tr>\n",
       "    <tr>\n",
       "      <th>1</th>\n",
       "      <td>#nineperfectstrangers \\nsérie muito boa no @pr...</td>\n",
       "      <td>3</td>\n",
       "    </tr>\n",
       "    <tr>\n",
       "      <th>2</th>\n",
       "      <td>#primevideo  quero uma sequência pra ontem de ...</td>\n",
       "      <td>2</td>\n",
       "    </tr>\n",
       "    <tr>\n",
       "      <th>3</th>\n",
       "      <td>@camila_cabello @cinderella @primevideo amei p...</td>\n",
       "      <td>3</td>\n",
       "    </tr>\n",
       "    <tr>\n",
       "      <th>4</th>\n",
       "      <td>@camila_cabello @cinderella @primevideo bravo!👏</td>\n",
       "      <td>3</td>\n",
       "    </tr>\n",
       "    <tr>\n",
       "      <th>...</th>\n",
       "      <td>...</td>\n",
       "      <td>...</td>\n",
       "    </tr>\n",
       "    <tr>\n",
       "      <th>494</th>\n",
       "      <td>segundo a plataforma justwatch, o telecine tem...</td>\n",
       "      <td>1</td>\n",
       "    </tr>\n",
       "    <tr>\n",
       "      <th>495</th>\n",
       "      <td>deve q eu achei q tava rica qd assinei spotify...</td>\n",
       "      <td>1</td>\n",
       "    </tr>\n",
       "    <tr>\n",
       "      <th>496</th>\n",
       "      <td>@acordadebora um crime real, dois filmes e dua...</td>\n",
       "      <td>0</td>\n",
       "    </tr>\n",
       "    <tr>\n",
       "      <th>497</th>\n",
       "      <td>quebrando a cabeça pra saber se a dubladora de...</td>\n",
       "      <td>1</td>\n",
       "    </tr>\n",
       "    <tr>\n",
       "      <th>498</th>\n",
       "      <td>@rolealeatorio baseado no caso ritchofen, dois...</td>\n",
       "      <td>0</td>\n",
       "    </tr>\n",
       "  </tbody>\n",
       "</table>\n",
       "<p>499 rows × 2 columns</p>\n",
       "</div>"
      ],
      "text/plain": [
       "                                           Treinamento  Classificacao\n",
       "0    \"eu sou mais eu\" não tem roteiro criativo, par...              2\n",
       "1    #nineperfectstrangers \\nsérie muito boa no @pr...              3\n",
       "2    #primevideo  quero uma sequência pra ontem de ...              2\n",
       "3    @camila_cabello @cinderella @primevideo amei p...              3\n",
       "4      @camila_cabello @cinderella @primevideo bravo!👏              3\n",
       "..                                                 ...            ...\n",
       "494  segundo a plataforma justwatch, o telecine tem...              1\n",
       "495  deve q eu achei q tava rica qd assinei spotify...              1\n",
       "496  @acordadebora um crime real, dois filmes e dua...              0\n",
       "497  quebrando a cabeça pra saber se a dubladora de...              1\n",
       "498  @rolealeatorio baseado no caso ritchofen, dois...              0\n",
       "\n",
       "[499 rows x 2 columns]"
      ]
     },
     "execution_count": 8,
     "metadata": {},
     "output_type": "execute_result"
    }
   ],
   "source": [
    "#DAR UMA OLHADA EM PANDAS\n",
    "# Carrega o arquivo de texto\n",
    "# Como ele possui caracteres com acentos, precisamos carregar utilizando o encoding=\"utf8\".\n",
    "primevideo = pd.read_excel('Primevideo.xlsx')\n",
    "primevideo.Classificacao = primevideo.Classificacao.astype('int')\n",
    "primevideo"
   ]
  },
  {
   "cell_type": "code",
   "execution_count": 9,
   "metadata": {},
   "outputs": [
    {
     "name": "stdout",
     "output_type": "stream",
     "text": [
      "0      @artofesthetic baseado no caso ritchofen, dois...\n",
      "1      @laressa baseado no caso ritchofen, dois filme...\n",
      "2      @popzonebr baseado no caso ritchofen, dois fil...\n",
      "3      @bbb @gshow baseado no caso ritchofen, dois fi...\n",
      "4      @flamengo @davidluiz_4 baseado no caso ritchof...\n",
      "                             ...                        \n",
      "142    @paulaamorim baseado no caso ritchofen, dois f...\n",
      "143    @eulaurakeller @valescaoficial baseado no caso...\n",
      "144    @sepcarloslima @acordadebora um crime real, do...\n",
      "145    @acordadebora um crime real, dois filmes e dua...\n",
      "146    @rolealeatorio baseado no caso ritchofen, dois...\n",
      "Name: Treinamento, Length: 147, dtype: object\n"
     ]
    }
   ],
   "source": [
    "#Criar um DF (DataFrame) para cada classificação\n",
    "\n",
    "#Filtra as linhas, separando cada clasificação em um DF sem ter aplicado o 'CleanUp'\n",
    "filtra_linhas = primevideo.Classificacao == 0\n",
    "primevideo_classfic_0_raw = primevideo.loc[filtra_linhas, 'Treinamento'].reset_index(drop=True)\n",
    "\n",
    "filtra_linhas = primevideo.Classificacao == 1\n",
    "primevideo_classfic_1_raw = primevideo.loc[filtra_linhas, 'Treinamento'].reset_index(drop=True)\n",
    "filtra_linhas = primevideo.Classificacao == 2\n",
    "primevideo_classfic_2_raw = primevideo.loc[filtra_linhas, 'Treinamento'].reset_index(drop=True)\n",
    "filtra_linhas = primevideo.Classificacao == 3\n",
    "primevideo_classfic_3_raw = primevideo.loc[filtra_linhas, 'Treinamento'].reset_index(drop=True)\n",
    "\n",
    "print(primevideo_classfic_0_raw)"
   ]
  },
  {
   "cell_type": "code",
   "execution_count": 10,
   "metadata": {},
   "outputs": [],
   "source": [
    "#CLEANUP - vai precisar do for\n",
    "#cleanup(primevideo_classfic_0_raw[0].lower()).split()"
   ]
  },
  {
   "cell_type": "code",
   "execution_count": 30,
   "metadata": {},
   "outputs": [
    {
     "name": "stdout",
     "output_type": "stream",
     "text": [
      "[['alguém', 'me', 'empresta', 'o', 'primevideo', 'por', 'favor', 'eu', 'quero', 'ver', 'o', 'filme', 'da', 'cinderela', 'com', 'a', 'minha', 'mãe']]\n",
      "[['assinei', 'o', 'primevideo', 'e', 'vou', 'finalmente', 'assistir', 'o', 'filme', 'da', 'camila', 'aaaaaaaaaa']]\n",
      "[['gnt', 'alguem', 'tem', 'primevideo', 'pra', 'me', 'emprestar', 'quero', 'mt', 'assistir', 'um', 'filme😔']]\n",
      "[['o', 'pico', 'da', 'comédia', 'foi', 'bem', 'aqui', 'https//tco/dmxo9porlh', 'https//tco/5bnmn8wldq']]\n",
      "[['joguei', 'duas', 'partidas', 'hj', 'pq', 'fazia', 'tempo', 'sem', 'jogar', 'com', 'ela', 'ai', 'vem', 'skin', 'dela', 'no', 'prime', 'prime', 'nunca', 'falhou', 'comigo', 'https//tco/s3zjjwkdce']]\n",
      "[['bayonetta', 'na', 'prime', 'vídeo', 'pra', 'começar', 'o', 'final', 'de', 'semana', 'com', 'o', 'pé', 'direito', 'que', 'tal', 'já', 'ir', 'pensando', 'em', 'um', 'bom', 'filme', 'de', 'anime', 'pra', 'curtir', 'temos', 'uma', 'ótima', 'sugestão', 'bayonetta', 'destino', 'sangrento', 'filme', 'sensacional', 'para', 'assistir', 'nessa', 'sextafeira', 'é', 'na', 'prime', 'vídeo', '💙', 'bayonetta', 'https//tco/so0ytthdae']]\n",
      "[['bayonetta', 'na', 'prime', 'vídeo', 'pra', 'começar', 'o', 'final', 'de', 'semana', 'com', 'o', 'pé', 'direito', 'que', 'tal', 'já', 'ir', 'pensando', 'em', 'um', 'bom', 'filme', 'de', 'anime', 'pra', 'curtir', 'temos', 'uma', 'ótima', 'sugestão', 'bayonetta', 'destino', 'sangrento', 'filme', 'sensacional', 'para', 'assistir', 'nessa', 'sextafeira', 'é', 'na', 'prime', 'vídeo', '💙', 'bayonetta', 'https//tco/mydbns51uh']]\n",
      "[['@mauromlpes', '@marcellocravo', '@sujeitodaora', '@johny_matos0', 'mas', 'aí', 'é', 'outra', 'questão', 'pq', 'o', 'assinante', 'do', 'star', 'é', 'da', 'espn', 'e', 'ela', 'fez', 'isso', 'para', 'valorizar', 'o', 'seu', 'próprio', 'sistema', 'e', 'que', 'nem', 'de', 'longe', 'sai', 'um', 'absurdo', 'de', 'preço', 'assinei', 'o', 'star', 'com', 'a', 'disney', 'e', 'tenho', 'o', 'prime', 'vídeo', 'e', 'o', 'hbo', 'max', 'e', 'tudo', 'junto', 'fica', 'bem', 'longe', 'de', 'uma', 'assinatura', 'de', 'tv']]\n",
      "[['@alessa_bluemoon', '@amazonbr', '@camila_cabello', '@cinderella', '@primevideobr', '@primevideo', 'sim', 'amg', 'mas', 'tem', 'muita', 'gente', 'assistindo', 'no', 'off', 'né', 'kk']]\n",
      "[['@allforcamis', '@primevideo', 'dá', 'uma', 'olhada', 'nessa', 'crítica', 'do', 'filme', '😁😃🙂😀😄🥰🥰🥰😊😁🥰🥰🥰😊😁', 'https//tco/ojt26sp5yw']]\n",
      "[['@ashleycc1love', '@camila_cabello', '@cinderella', '@primevideo', 'o', 'seu', 'cu', 'pelado']]\n",
      "[['@atleti', '@primevideo', '@primevideoes', '@primevideobr', 'amiga', 'diz', 'pra', 'mim', 'que', 'vai', 'ter', 'aqui', 'também', '❤']]\n",
      "[['@atleti', '@primevideo', '@primevideoes', 'adianta', 'aí']]\n",
      "[['@babyjaurmila', '@kccjcubami', '@primevideo', 'eu', 'sei', '@primevideobr', 'me', 'ajuda', 'aqui', 'também', '🥺']]\n",
      "[['@babytnhmbx', '@mannytsakanika', '@cinderella', '@primevideo', 'eu', 'ia', 'perguntar', 'agora', 'mesmo', 'se', 'alguém', 'sabia', 'o', 'nome', 'dele', 'aí', 'do', 'nada', 'ele', 'me', 'aparece', 'na', 'time', 'line', 'nunca', 'fui', 'triste']]\n",
      "[['@bdebaixarenda', 'numa', 'foto', 'temos', 'uma', 'princesa', 'linda', 'e', 'encantadora', 'que', 'passou', 'por', 'muita', 'adversidade', 'para', 'conquistar', 'uma', 'vida', 'plena', 'na', 'outra', 'temos', 'camilla', 'cabello', 'em', 'um', 'filme', 'chato', 'do', 'primevideo']]\n",
      "[['@blaugranaana', '@primevideo', 'oscar']]\n",
      "[['@camila_cabello', '@apchc', '@cinderella', '@primevideo', 'a', 'bb', 'agr', 'é', 'atriz', 'meu', 'pai']]\n",
      "[['@camila_cabello', '@cinderella', '@primevideo', 'ainda', 'vou', 'ver', 'amg']]\n",
      "[['@camila_cabello', '@cinderella', '@primevideo', 'amiga', 'eu', 'tô', 'tão', 'orgulhoso', 'de', 'ti']]\n",
      "[['@felipefrc1', '@brenoxhenrique', 'a', 'caça', 'de', '2012', 'vi', 'na', 'primevideo', 'mas', 'já', 'aviso', 'a', 'vocês', 'que', 'tem', 'criança', 'em', 'casa', 'que', 'o', 'tema', 'do', 'filme', 'é', 'pdofilia']]\n",
      "[['@gold3n_katana', 'olha', 'eu', 'não', 'tenho', 'certeza', 'mas', 'acho', 'q', 'ainda', 'tá', 'no', 'catálogo', 'do', 'primevideo']]\n",
      "[['@jhonatansr18', 'nam', 'o', 'que', 'lançou', 'no', 'primevideo']]\n",
      "[['@juniorpocz', '@camila_cabello', '@cinderella', '@primevideo', '@marvenz_', '@camila_cabello', 'ignora', 'ele', 'não', 'está', 'no', 'seu', 'juízo', 'perfeito']]\n",
      "[['@juniorpocz', '@laercionailond', '@camila_cabello', '@cinderella', '@primevideo', '@marvenz_', 'talvez', 'ele', 'seja', 'um', 'bom', 'ator', 'but', 'nesse', 'filme', 'falhou', 'https//tco/onthpqcyww']]\n",
      "[['@jusuindara', '@ciminacional', 'recomendo', 'ei', 'estou', 'vendo', 'gente', 'awa', 'confira', 'agora', 'no', 'prime', 'video', 'https//tco/fs5uu5zn61']]\n",
      "[['@kccjcubami', '@primevideo', 'eu', 'preciso', 'aprender', 'inglês', 'meu', 'deus']]\n",
      "[['@laercionailond', '@camila_cabello', '@cinderella', '@primevideo', '@marvenz_', 'e', 'é', 'mesmo']]\n",
      "[['@mvatheus', 'eu', 'tenho', 'primevideo', 'q', 'tem', 'um', 'catalogo', 'bom', 'e', 'baixo', 'muito', 'torrent', 'tambem', 'fora', 'uma', 'pasta', 'do', 'drive', 'que', 'tem', 'varioss', 'filmes', 'e', 'sagas', 'essa', 'eu', 'n', 'sei', 'se', 'caiu', 'mas', 'eu', 'acho', 'q', 'ainda', 'funciona']]\n",
      "[['@mvrilocrv', 'nove', 'perfeitos', 'desconhecidos', 'primevideo']]\n",
      "[['@netflix', 'e', '@primevideo', 'gastam', 'grana', 'com', 'um', 'monte', 'de', 'bomba', 'e', 'agora', 'não', 'querem', 'liberar', '100', 'milhões', 'para', 'um', 'dos', 'maiores', 'cineastas', 'vivos', 'e', 'ainda', 'mais', 'com', 'um', 'elenco', 'estelar', 'esperando', 'que', 'a', '@appletv', 'tope', 'bancar', 'https//tco/0a2s9utdi0']]\n",
      "[['@nickxarope', '@primevideo', 'tem', 'q', 'ver', 'kkkkkķkkkk']]\n",
      "[['@nuevordenmoral', '@pieceofsofie', '@abcarlosquiroz', '@snoopydj2011', '@collaguazon', '@primevideo', '@disneyplusla', '@disneystudiosla', '@netflixlat', '@nickelodeonla', 'humanos', 'tmb', 'coprofilicos']]\n",
      "[['@onitsukatiger', '@cinderella', '@primevideo', 'manda', 'um', 'pra', 'mim', 'vida', 'https//tco/xmbnt53lus']]\n",
      "[['@pablomonzonis19', '@atleti', '@primevideo', '@primevideoes', 'tremendo', 'choto']]\n",
      "[['@pauloap', 'olha', 'os', 'comentários', 'do', 'post', 'original', 'deu', 'ruim', 'pra', 'tentativa', 'lacradora', 'da', '@primevideo', 'kkk']]\n",
      "[['@primevideo', 'não', 'tá', 'chegando', 'o', 'código', 'no', 'meu', 'celular', 'mano']]\n",
      "[['@primevideo', 'pq', 'o', 'que', 'eu', 'baixo', 'fica', 'sem', 'legenda', '🥺', '@primevideobr']]\n",
      "[['@sayiorpink', 'eu', 'ainda', 'não', 'conseguir', 'assistir', 'o', 'primeiro', 'já', 'baixei', '228282x', 'app', 'e', 'não', 'pega', 'no', 'primevideo', 'não', 'pega', 'e', 'na', 'netflix', 'não', 'tô', 'achando', 'minha', 'senha']]\n",
      "[['@someonehanging', '@allforcamis', '@primevideo', 'flopou', 'desativa’']]\n",
      "[['@someonehanging', '@allforcamis', '@primevideo', 'se', 'o', 'lukkaz', 'falou', 'tá', 'falado']]\n",
      "[['@sorrybitche', '@primevideo', 'dá', 'uma', 'olhada', 'nessa', 'crítica', 'do', 'filme', '😁😃🙂😀😄😄😄😃😃🥰🥰😍🥰😊😁🥰🥰', 'https//tco/icbgjnw0vl']]\n",
      "[['@stonecrybaby', 'pelo', 'amor', 'de', 'deus', 'tem', 'no', 'primevideo']]\n",
      "[['@swiftlucky', '@camila_cabello', '@primevideo', 'ai', 'que', 'fancan', 'linda']]\n",
      "[['@thecosmoboy_', '@iammoniqueheart', '@primevideo', 'perdeu', 'tudo']]\n",
      "[['@thequartering', '@primevideo', 'humancentipede']]\n",
      "[['@tireserva', '@kaykaycannon', '@primevideo', '@cinderella', 'kkkkk', 'assim']]\n",
      "[['anne', 'hathaway', 'servindo', 'três', 'personagens', 'nessa', 'série', 'do', 'primevideo', 'https//tco/ldhyshodx7']]\n",
      "[['até', 'a', 'amazon', 'zoando', 'ele', 'hahahahahahahaha', 'https//tco/qynnisrzzv']]\n",
      "[['bom', 'dia', 'https//tco/qw6cfm7ajk']]\n",
      "[['bom', 'dia', '@primevideo', 'vocês', 'poderiam', 'nos', 'dar', 'uma', 'barbie', 'cinderella', 'outros', 'mimos', 'também', 'queremos', 'muito', 'vendam', 'uma', 'merch', 'por', 'favor', 'blusas', 'etc', 'https//tco/pemvhqumgg']]\n",
      "[['chocadaaaa', 'primevideo', 'em', 'saber', 'desses', 'pegas', 'da', 'bia', 'com', 'o', 'ramon', '☺️☺️☺️', 'genteeee', 'soltosemfloripa']]\n",
      "[['como', 'assim', 'a', '@primevideo', 'vai', 'tirar', 'bones', 'do', 'catálogo', 'eu', 'estou', 'surtando', 'me', 'recuso', 'a', 'acreditar']]\n",
      "[['de', 'volta', 'pro', 'futuro', 'mas', 'as', 'duas', 'ficam', 'presas', 'no', 'passado', 'pq', 'a', 'sociedade', 'la', 'eh', 'mais', 'machista', 'e', 'elas', 'sao', 'obrigadas', 'a', 'ficar', 'la', 'pra', 'sempre', 'e', 'morrem', 'https//tco/wwwmmljctu']]\n",
      "[['dinsey', 'netflix', 'hbomax', 'primevideo', 'e', 'eu', 'nao', 'acho', 'nada', 'pra', 'assistir', 'que', 'odio']]\n",
      "[['é', 'meus', 'amigos', 'de', 'alguma', 'forma', 'eu', 'tenho', 'todos', 'os', 'streamings', 'mainstream', 'me', 'indiquem', 'coisas', 'para', 'verem', 'nas', 'plataformas', 'hbomax', 'primevideo', 'netflix', 'globoplay', 'disney', 'e', 'star', '🤡🤡🤡🤡🤡']]\n",
      "[['e', 'vms', 'de', 'quase', '2', 'hrs', 'de', 'filme', '🤡', 'https//tco/dqwrps37nj']]\n",
      "[['esse', 'estagiário', 'aqui', 'acompanha', 'a', 'camila', 'kkkkkkkkkkkkk', 'https//tco/bwfbtv8bus']]\n",
      "[['eu', 'sei', 'que', 'é', 'querer', 'demaissssss', 'porém', 'queria', 'tannnnto', 'que', 'o', 'príncipe', 'fosse', 'o', 'shawn', 'kkkkkkkk', 'cinderellamovie', 'primevideo']]\n",
      "[['fala', 'meus', 'consagrados', 'a', 'live', 'ta', 'on', 'não', 'esquece', 'se', 'tu', 'for', 'assinante', 'do', 'primevideo', 'tu', 'tem', 'direito', 'a', 'uma', 'assinatura', 'no', 'canal', 'gratuitamente', 'todo', 'mês', 'então', 'cola', 'fortalece', 'com', 'o', 'prime', 'e', 'tamo', 'junto', 'link', 'do', 'canal', 'gt', 'https//tco/1ovwhqx4eo']]\n",
      "[['fazia', 'mt', 'tempo', 'que', 'eu', 'não', 'assinava', '@netflixbrasil', 'chuto', 'uns', '2', 'anos', 'ou', 'mais', 'daí', 'voltei', 'hoje', 'pra', 'botar', 'algumas', 'coisas', 'que', 'saíram', 'lá', 'nesse', 'meio', 'tempo', 'em', 'dia', 'e', 'não', 'é', 'que', 'eles', 'excluíram', 'minha', 'conta', 'tinha', 'um', 'bocado', 'de', 'coisa', 'na', 'minha', 'lista', 'que', 'se', 'foi', 'nem', 'primevideo', 'de', 'r9', 'faz', 'isso']]\n",
      "[['filme', 'da', 'cinderela', 'no', 'primevideo', 'foi', 'beeeeeem', 'meia', 'boca']]\n",
      "[['foram', 'tão', 'perspicazes', 'aqui', 'https//tco/mgykc4jy1h']]\n",
      "[['fui', 'assistir', 'cinderela', 'na', 'primevideo', 'e', 'acho', 'que', 'coloquei', 'no', 'high', 'school', 'musical', 'cinderelanoprime']]\n",
      "[['gente', 'kkkkkkkkkkkkkkkkkk', 'https//tco/vryvpeuzoo']]\n",
      "[['gloria', 'no', 'primevideo', 'o', 'remo', 'x', 'botafogo', 'nao', 'esta', 'listado', 'como', 'remo', 'x', 'botafogo', 'tem', 'que', 'clicar', 'em', 'todos', 'ate', 'achar', 'aff']]\n",
      "[['gnt', 'cade', 'os', 'filmes', 'da', 'evelyn', 'hugo', 'eh', 'na', 'netflix', 'globoplay', 'ou', 'primevideo']]\n",
      "[['gostei', 'da', 'sugestão', 'nos', 'comentários', 'https//tco/knkotvx5yg', 'https//tco/ximgk05qex']]\n",
      "[['inclusive', 'o', '@primevideo', 'estragou', 'o', 'filme', 'da', 'cinderela']]\n",
      "[['isso', 'aqui', 'https//tco/fbghjn8sqs']]\n",
      "[['kkkkkkkkkkk', 'o', 'povo', 'q', 'vai', 'ver', 'os', 'coments', 'no', 'insta', 'da', 'camila', 'já', 'sabe', 'quem', 'é', 'o', 'alexander', 'https//tco/lxnq8qoi4s']]\n",
      "[['meu', 'deus', 'prime', 'video', 'para', 'de', 'xingar', 'o', 'bulbassauro', 'https//tco/7f2nggjcj0']]\n",
      "[['meu', 'deus', 'quem', 'fez', 'esse', 'thread', 'merece', 'um', 'aumento', 'no', 'mínimo', 'https//tco/fuhr8kkdgx']]\n",
      "[['meu', 'deus', '@netflix', '@primevideo', '@hulu', '@globoplay', '@appletv', 'alguém', 'aceita', 'continuar', '@zoeysplaylist', 'eu', 'imploro', 'tudo', 'nessa', 'série', 'é', 'extraordinário', 'é', 'perfeito', 'é', '🤬', 'savezoeysplaylist']]\n",
      "[['meu', 'pai', 'indo', 'atras', 'de', 'mim', 'pra', 'colocar', 'a', 'primevideo', 'pra', 'ele', 'ver', 'o', 'filme', 'da', 'cinderela']]\n",
      "[['necesito', 'ver', 'val', '😭😭😭😭😭😢😢😢😢😪😪😪😪', 'val', '@primevideo', 'https//tco/yarqizknrl']]\n",
      "[['nmrl', '@primevideo', 'pq', 'n', 'da', 'pra', 'ver', 'a', 'merda', 'do', 'filme', 'da', 'cinderela']]\n",
      "[['ó', 'esses', 'cara', 'vsfkkkkkkkkkkkkkkkkkkkkkkkkkkkkkkkkkkkkkkkkkkkkkkkkkkkkkkkkkkkkkkkkkkkkkkkkkkkkkkkkkkkkkkkkkkkkkkkkkkkkkkkkkkkkkkkkkkkkkkkkkkkkkkkkkkkkkkkkkkkkkkkkkkkkkkkkkkkkkkkkkkkkkkkkkkkkkkkkkkkk', 'https//tco/p6isxacxyd']]\n",
      "[['o', 'filme', 'cinderella', 'com', 'camila', 'cabello', 'infelizmente', 'é', 'ruim', '🤡', '|', 'crítica', 'comentários', 'https//tco/vwkossfrct', 'https//tco/vwkossfrct', 'a', 'nova', 'versão', 'de', 'cinderella', 'é', 'protagonizada', 'por', 'camilacabello', 'e', 'foi', 'lançada', 'pelo', 'primevideo', 'https//tco/7erel4xy36']]\n",
      "[['o', 'poderoso', 'chefão', '1', 'o', 'don', 'vito', 'vai', 'ser', 'a', 'fernanda', 'montenegro', 'https//tco/07z0lvvpkd']]\n",
      "[['olha', 'as', 'pernas', 'dessa', 'mulher', 'vanessahudgens', 'primevideo', 'rhianna', 'https//tco/usazbtvib4']]\n",
      "[['primevideo', 'lançando', 'a', 'cinderela', 'da', 'camila', 'cabllo', 'aí', 'tu', 'entra', 'no', 'hbomax', 'e', 'da', 'de', 'cara', 'com', 'a', 'nova', 'cinderela', 'da', 'hilary', 'duff', 'acho', '👀']]\n",
      "[['pronto', 'fudeu', 'https//tco/wacdquen1w']]\n",
      "[['quando', 'a', 'série', 'iknowwhatdidlastsummer', 'lança', 'eu', 'quero', 'emoji', 'na', 'tag', '@primevideobr', '@primevideo', '@lastsummerbra', '@lastsummerspain']]\n",
      "[['quem', 'me', 'empresta', 'primevideo', 'pra', 'eu', 'ver', 'cinderela']]\n",
      "[['saga', 'do', 'filme', 'para', 'dormir', 'coloquei', 'timecop', 'com', 'o', 'van', 'damme', 'no', 'prime', 'e', 'pensei', '5', 'minutos', 'capoto', 'é', 'tao', 'ruim', 'que', 'preciso', 'ver', 'ate', 'o', 'final', 'pelo', 'menos', 'tem', 'a', 'mia', 'sara', 'pra', 'dar', 'suporte', 'a', 'minha', 'penitência', 'acabou', 'agora', 'preciso', 'achar', 'outro', 'primevideo', 'sono', '90s']]\n",
      "[['se', 'esse', 'é', 'o', 'tipo', 'de', 'ideia', 'que', 'aparece', 'nas', 'reuniões', 'criativas', 'deles', 'explica', 'muita', 'coisa', 'https//tco/tuji26h0l6']]\n",
      "[['tchauuuu', 'kkkkkkk', 'tô', 'passando', 'mal', 'https//tco/w2jawxkyuw']]\n",
      "[['tem', 'uma', 'série', 'sobre', 'o', 'último', 'filme', 'do', 'borat', 'e', 'teorias', 'da', 'conspiração', 'curtinha', 'muito', 'boa', 'recomendo', 'https//tco/bdchb0jbrm']]\n",
      "[['terceiro', 'dia', 'sem', 'conseguir', 'uma', 'imagem', 'minimamente', 'decente', 'no', '@primevideobr', 'conexão', 'internet', 'ok', 'todos', 'outros', 'streamings', 'com', 'a', 'imagem', 'perfeita', '@primevideo']]\n",
      "[['the', 'americans', 'saiu', 'do', 'catálogo', 'da', '@primevideo', 'não', 'façam', 'isso', 'comigo', 'amazon']]\n",
      "[['tô', 'rindo', 'tanto', 'disso', 'vei', 'o', 'adm', 'totalmente', 'ligado', 'na', 'chatice', 'desse', '@', 'https//tco/ynjx7ihdey']]\n",
      "[['troco', 'acesso', 'da', 'hbo', 'max', 'ou', 'prime', 'vídeo', 'por', 'funimation', 'premium', 'só', 'chamar', 'na', 'dm', 'hbomax', 'funimation', 'anime', 'primevideo']]\n",
      "[['vamos', 'assistir', 'o', 'cinderela', 'da', 'camila', 'cabelo', 'pelo', 'prime', 'vamos', 'ver', 'essa', 'micropiece', 'juntos', 'https//tco/zsprslp0n5']]\n",
      "[['@hbomaxbr_portal', 'se', 'ele', 'for', 'pra', 'netflix', 'ou', 'prime', 'video', 'seria', 'bem', 'hipócrita', 'da', 'parte', 'dele', 'considerando', 'que', 'ele', 'não', 'gosta', 'de', 'filmes', 'lançados', 'para', 'streaming', 'o', 'motivo', 'da', 'briga', 'dele', 'com', 'a', 'warner']]\n",
      "[['deve', 'ir', 'pra', 'universal', '20th', 'centurydisney', 'warner', 'bros', 'ou', 'até', 'mesmo', 'netflix/prime', 'video', 'se', 'ele', 'quiser', 'se', 'ferrar', 'ele', 'vai', 'para', 'sony', 'ou', 'paramount', 'provavelmente', 'não', 'liberariam', 'tanto', 'orçamento', 'https//tco/vctjzng8ez']]\n",
      "[['alguém', 'me', 'apoia', 'o', 'prime', 'vídeo', 'ai', 'rapidão', 'só', 'pra', 'eu', 'testar', 'uma', 'coisa']]\n",
      "[['alguém', 'me', 'disponibiliza', 'um', 'amazon', 'prime', 'vídeo', 'amanhã', 'pagi']]\n",
      "[['the', 'voyeurs', 'chegou', 'faz', '2', 'horas', 'no', 'prime', 'video', 'e', 'eu', 'já', 'querendo', 'drive', 'pra', 'ver', 'kkkk', 'alguém', 'da', 'um', 'jeito', 'aí']]\n",
      "[['@dekiinha__', 'mas', 'seria', 'pelo', 'prime', 'video', 'não', 'tem', 'aquele', 'trem', 'de', 'streamar', 'assim']]\n",
      "[['@fucksherl', 'a', 'amazon', 'prime', 'brasil', 'postou', 'um', 'vídeo', 'esse', 'vídeo', 'legendado', 'em', 'português']]\n",
      "[['prime', 'video', 'tinha', 'mesmo', 'que', 'chamar', 'a', 'pior', 'cantora', 'do', 'falecido', 'fifth', 'harmony', 'pra', 'protagonizar', 'um', 'musical']]\n",
      "[['jeff', 'bezos', 'mande', 'arrumar', 'o', 'site', 'do', 'prime', 'vídeo', 'agora']]\n",
      "[['coincidência', 'ou', 'destino', '🤔', 'jensen', 'ackles', 'finaliza', 'gravações', 'de', 'theboys', 'exatamente', 'um', 'ano', 'depois', 'de', 'seu', 'último', 'dia', 'em', 'supernatural', 'veja', 'vídeo', 'https//tco/5tl4fbutgx']]\n",
      "[['@bianca_cost', 'onde', 'vcs', 'assistem', 'todas', 'as', 'temporadas', 'só', 'tem', 'a', 'primeira', 'temporada', 'na', 'prime', 'video']]\n",
      "[['mds', 'prime', 'video', 'e', 'aria', 'rita', 'cairam', 'q', 'mundo', 'eh', 'esse', 'tao', 'cruel', 'q', 'a', 'gente', 'vivee']]\n",
      "[['@oxytocinina', 'já', 'que', 'vocês', 'estão', 'com', 'tempo', 'vocês', 'sabem', 'fazer', 'login', 'na', 'amazon', 'prime', 'vídeo', 'só', 'tô', 'assistindo', 'no', 'apenas', 'pelo', 'celular']]\n",
      "[['prime', 'video', 'é', 'extremamente', 'travado', 'na', 'minha', 'tv']]\n",
      "[['to', 'mto', 'feliz', 'com', 'a', 'skin', 'que', 'veio', 'no', 'frag', 'do', 'prime', 'obg', 'pelo', 'presente', 'de', 'aniversário', 'riot', '🥺', 'eu', 'queria', 'mto', 'essa', 'skin', 'mas', 'n', 'queria', 'comprar', 'por', 'ser', 'mto', 'antiga', 'ainda', 'mais', 'com', 'o', 'preço', 'novo', 'do', 'rp', 'n', 'valeria', 'a', 'pena', '🥳🥳🥳', 'https//tco/shrj6ljztx']]\n",
      "[['meu', 'deus', 'entraram', 'na', 'minha', 'conta', 'no', 'prime', 'video', 'e', 'pesquisaram', '“filmes', 'evangélicos”']]\n",
      "[['@fashionxkillaz', 'vou', 'ver', 'podias', 'ver', 'cmg', 'e', 'com', 'a', 'thata', 'na', 'streaming', 'party', 'do', 'prime', 'video']]\n",
      "[['@gabiarrasca', '@jeandemiurgo', '@silvinospfc', '@futnatv', 'netflixpacote', 'mais', 'mixuruca', 'custa', '26', 'reais', 'prime', 'vídeo10', 'reais', 'internet', 'boa100', 'reais', 'em', 'média']]\n",
      "[['no', 'dia', 'q', 'eu', 'preciso', 'da', 'minha', 'prime', 'video', 'ela', 'ta', 'bloqueada', 'e', 'ngm', 'tem', 'p', 'me', 'emprestar']]\n",
      "[['🚨', 'spoiler', 'thevoyeurs', '🚨', '🎥', '|', 'amazon', 'prime', 'vídeo', 'via', 'instagram', 'post', 'https//tco/4tqzkwkhm9']]\n",
      "[['o', 'cavaleiro', 'makai', 'está', 'de', 'volta', 'à', 'plataforma', 'de', 'streaming', 'da', 'amazon', 'https//tco/okd61l4ad7']]\n",
      "[['queria', 'ver', 'o', 'pilot', 'de', 'the', 'x', 'files', 'por', 'causa', 'dos', '28', 'anos', 'da', 'série', 'mas', 'a', 'prime', 'video', 'me', 'odeia']]\n",
      "[['@mukecolxrs', 'tem', 'no', 'prime', 'video']]\n",
      "[['@tchereca', 'cê', 'viu', 'o', 'que', 'eu', 'fiz', 'no', 'seu', 'bgl', 'd', 'prime', 'video', 'kkkkkkkkkk']]\n",
      "[['minha', 'mãe', 'descobriu', 'que', 'tem', '542', 'filmes', 'do', 'steven', 'seagal', 'no', 'prime', 'video', 'e', 'está', 'vendo', 'todos', 'fudendo', 'com', 'o', 'algoritmo', '😏']]\n",
      "[['prime', 'vídeo', 'é', 'uma', 'comédia', 'mesmo', 'https//tco/snz5h5rz9q']]\n",
      "[['hbomax', 'se', 'garante', 'no', 'catálogo', 'pq', 'se', 'fosse', 'depender', 'da', 'interface', 'do', 'aplicativo', 'que', 'coisa', 'horrorosa', 'conseguiu', 'ser', 'pior', 'que', 'o', 'prime', 'video']]\n",
      "[['@butteerffllyy', 'amiga', 'tem', 'uns', 'na', 'netflix', 'e', 'no', 'prime', 'vídeo', 'que', 'são', 'tudo']]\n",
      "[['✅', 'amazon', 'prime', 'video', '✅', 'email', '➡️', 'weskimaya@outlookcom', 'senha', '➡️', 'amazon1212', '⚠️manda', 'print', 'quem', 'pegar', '▬▬▬▬▬▬▬▬▬▬▬▬▬▬▬▬', '📅', 'ᴠᴀʟɪᴅᴀᴅᴇ', 'até', 'cair', '▬▬▬▬▬▬▬▬▬▬▬▬▬▬▬▬']]\n",
      "[['@hellogab', 'aff', 'que', 'saudade', 'tiraram', 'essa', 'poha', 'do', 'prime', 'video', 'queria', 'tanto', 'rever']]\n",
      "[['acabei', 'de', 'assinar', 'prime', 'vídeo', 'pra', 'poder', 'assistir', 'cinderela', 'de', 'camila', 'cabello', 'se', 'for', 'ruim', 'eu', 'me', 'mato', 'juro']]\n",
      "[['um', 'dos', 'filmes', 'de', 'suspense', 'mais', 'marcantes', 'da', 'minha', 'infância', 'foi', 'o', 'buraco', 'passava', 'direto', 'no', 'sbt', 'prime', 'video', 'me', 'mandou', 'email', 'marketing', 'dizendo', 'que', 'o', 'buraco', 'entrou', 'no', 'catálogo', 'fui', 'louco', 'assistir', 'e', 'descobri', 'que', 'na', 'verdade', 'se', 'trata', 'de', 'outro', 'filme', 'mas', 'com', 'o', 'mesmo', 'título', '🤡🤡🤡']]\n",
      "[['quando', 'a', 'faculdade', 'tá', 'atrapalhando', 'seu', 'desempenho', 'de', 'ver', 'tiktok', 'netflix', 'disney', 'globoplay', 'prime', 'vídeo', 'hbo', 'e', 'futebol', 'a', 'sua', 'obrigação', 'e', 'trancar', 'duas', 'matérias', 'e', 'deixar', 'com', 'deus', '🤷🏾\\u200d♀️', 'é', 'sobre', 'isso']]\n",
      "[['o', 'jeff', 'bezos', 'tem', 'que', 'ficar', 'pobre', 'logo', 'pra', 'parar', 'de', 'dar', 'dinheiro', 'pra', 'prime', 'video', 'fazer', 'uns', 'filme', 'ruim', 'topo', 'esse', 'da', 'cinderella']]\n",
      "[['mds', 'eu', 'odeio', 'o', 'prime', 'vídeo', 'por', 'ter', 'tirado', 'the', 'americans', 'do', 'catálogo', 'logo', 'qnd', 'eu', 'ía', 'ver', 'a', 'última', 'temporada', 'e', 'parece', 'q', 'tá', 'no', 'star…', 'https//tco/xbjbxrs3ej']]\n",
      "[['netflix', 'se', 'não', 'renovar', 'julie', 'and', 'phantoms', 'eu', 'mudo', 'pro', 'prime', 'video', '@netflixbrasil']]\n",
      "[['a', 'esmagada', 'da', 'cruella', 'na', 'camila', 'e', 'o', 'prime', 'video', 'tem', 'quase', '200m', 'https//tco/5yjhs4chuv']]\n",
      "[['@thiagoromariz', 'tem', 'também', 'a', 'versão', 'da', 'abertura', 'do', 'mozart', 'in', 'the', 'jungle', '❤️', 'amazon', 'prime', 'video']]\n",
      "[['diana', 'silvers', 'beijando', 'mulheres', 'de', 'novo', 'por', 'favor', 'prime', 'video', 'me', 'dê', 'esse', 'mimo', 'https//tco/gz2arkd2h5']]\n",
      "[['alguém', 'quer', 'dividir', 'a', 'assinatura', 'da', 'netflix', 'comigo', 'ofereço', 'prime', 'video', 'ou', 'hbo', 'max', 'em', 'troca']]\n",
      "[['@amaralhcarlos', 'site', 'lixo', 'pra', 'caralho', 'prime', 'vídeo', 'idem']]\n",
      "[['@macmagazine', 'o', 'serviço', 'tem', 'um', 'longo', 'caminho', 'pra', 'percorrer', 'se', 'quiser', 'concorrer', 'com', 'netflix', 'prime', 'vídeo', 'hbo', 'max', 'hulu', 'entre', 'outros…']]\n",
      "[['versão', 'liveaction', 'de', 'city', 'hunter', 'com', 'jackie', 'chan', 'chegou', 'hoje', 'no', 'catálogo', 'do', 'prime', 'vídeo', 'o', 'filme', 'possui', 'as', 'opções', 'de', 'dublagem', 'e', 'idioma', 'original', 'sendo', 'esta', 'última', 'infelizmente', 'sem', 'legendas', 'mangasbrasil', 'liveaction', 'cityhunter', 'jackchan', 'primevideo', 'https//tco/gegk9fnq0s']]\n",
      "[['recebo', 'notificação', 'de', 'recomendações', 'de', 'filmes', 'do', 'prime', 'vídeo', 'da', 'amz', 'e', 'do', 'nada', 'no', 'fim', 'do', 'email', 'várias', 'propagandas', 'de', 'docinhos', 'e', 'produtos', 'de', 'limpeza', 'kkkkk', 'véi', 'já', 'já', 'isso', 'vira', 'uma', 'shopee']]\n",
      "[['@gustavinplus', 'foi', 'um', 'dos', 'nomes', 'cogitados', 'hamada', 'mamada', 'prime', 'video', 'mamadamax', 'mas', 'não', 'me', 'misturo', 'com', 'perdedores']]\n",
      "[['atenção', 'também', '✨', 'promoção', 'valida', 'ate', 'hoje', 'cinco', 'contas', 'por', '20', 'reais', 'conta', 'somente', 'sua', 'e', 'com', 'garantia', 'de', 'suporte', 'temos', '👇', 'telecine', 'play', 'globoplay', 'normal', 'globoplay', 'canais', 'globoplay', 'premiere', 'globoplay', 'canais', 'disney', 'amazon', 'prime', 'vídeo', 'disney', 'plus', 'spotify', 'premium']]\n",
      "[['@felipec18884520', '@thiagochareti', '@nerdboomer', 'é', 'pq', 'mudam', 'os', 'personagens', 'pra', 'um', 'país', 'tipo', 'brasil', 'e', 'eua', 'que', 'tem', 'muitos', 'brancos', 'e', 'muitos', 'negros', 'diferente', 'do', 'japão', 'que', 'só', 'tem', 'asíaticos', 'obviamente', 'e', 'brancos', 'e', 'não', 'colocam', 'representatividades', 'pq', 'não', 'convivem', 'com', 'eles', 'mas', 'também', 'o', 'primevideo', 'coloca', 'representatividade']]\n",
      "[['vo', 'cancela', 'meu', 'prime', 'video', 'n', 'tem', 'nd', 'nessa', 'porra']]\n",
      "[['@pedrofirmofc', '@comentandotvbr', 'streaming', 'não', 'estava', 'só', 'com', 'a', 'globo', 'estava', 'com', 'a', 'amazon', 'prime', 'vídeo', 'também']]\n",
      "[['a', 'prime', 'vídeo', 'me', 'fez', 'ficar', 'mo', 'hypado', 'com', 'the', 'voyeurs', 'e', 'aí', 'na', 'estreia', 'a', 'linda', 'não', 'bota', 'no', 'catálogo', 'br', 'só', 'no', 'americano', 'vou', 'ser', 'obrigado', 'a', 'assistir', 'pelo', 'vpn', 'só', 'queria', 'assistir', 'uma', 'putaria', 'com', 'suspense', 'na', 'sexta', 'https//tco/zmrybmgkuh']]\n",
      "[['@felipepaes81', 'tem', 'q', 'ter', 'prime', 'vídeo']]\n",
      "[['@amlsxy', 'sua', 'conta', 'já', 'voltou', 'porque', 'a', 'minha', 'não…💔', 'suspenderam', 'até', 'meu', 'prime', 'video']]\n",
      "[['@comentvicky', 'tem', 'no', 'prime', 'video/starzplay', 'e', 'tem', 'tb', 'de', 'graça', 'no', 'google', 'drive', 'se', 'quiser', 'link', 'me', 'chama', 'na', 'dm', 'que', 'eu', 'passo']]\n",
      "[['esse', 'tênis', 'que', 'a', 'sowon', 'está', 'usando', 'vem', 'de', 'uma', 'edição', 'limitada', 'da', 'marca', 'onitsuka', 'tiger', 'em', 'colaboração', 'com', 'o', 'novo', 'filme', 'da', 'amazon', 'prime', 'video', 'cinderela', 'kimsojeong', '김소정', 'sowon', '소원', 'https//tco/5ko1fchiua']]\n",
      "[['@replaydragons', 'fear', 'tá', 'na', 'prime', 'vídeo', 'star', 'só', 'tem', 'twd']]\n",
      "[['tentei', 'invadir', 'a', 'conta', 'do', '@egusson', 'no', 'amazon', 'prime', 'video', 'e', 'deu', 'ruim', '😳']]\n",
      "[['alguém', 'me', 'empresta', 'amazon', 'prime', 'video', 'só', 'pra', 'eu', 'assistir', 'um', 'filme', 'depois', 'eu', 'deslogo']]\n",
      "[['amazon', 'prime', 'video', 'lança', 'trailer', 'do', 'filme', 'original', 'amazon', 'birds', 'of', 'paradise🎥', 'para', 'conferir', 'infos', 'e', 'trailer⬇', 'https//tco/daix0p1g2g', '@primevideobr', 'amazonprime', 'primevideo', 'amazonprimevideo', 'birdsofparadise', 'streaming', 'noticias', 'noticia', 'cinema', '@dianasilvers13', 'aksmall', 'https//tco/2iyh5pr10z']]\n",
      "[['@chup1nho', 'é', 'do', 'prime', 'vídeo', 'a', 's2', 'estreia', 'semana', 'que', 'vem']]\n",
      "[['🚨combo', 'ate', 'sexta', '🚨', '5', 'contas', 'por', '25', 'reais', 'globoplay', 'normal', 'globoplay', 'canais', 'disney', 'premiere', 'amazon', 'prime', 'vídeo', 'spotify', 'telecine', 'play', 'vem', 'de', 'dm']]\n",
      "[['dia', '24/9', 'serão', 'lançados', 'os', 'filmes', 'sobre', 'o', 'caso', 'richthofen', 'exclusivamente', 'na', 'amazon', 'prime', 'vídeo', 'https//tco/3bvyqofjha']]\n",
      "[['@portalprimebr', 'adm', 'sabe', 'a', 'previsão', 'de', 'estreia', 'de', 'orphan', 'black', 'no', 'prime', 'video', 'channels', 'estava', 'disponível', 'no', 'início', 'do', 'mês', 'mas', 'pelo', 'o', 'que', 'eu', 'vi', 'retiraram']]\n",
      "[['encontrei', 'bones', 'ontem', 'e', 'vai', 'sair', 'do', 'prime', 'video', 'dia', '14']]\n",
      "[['cobraram', 'dois', 'prime', 'video', 'na', 'minha', 'fatura', 'que', 'palhaçada', 'eh', 'essa', 'amazon']]\n",
      "[['quando', 'a', 'amazon', 'vai', 'tomar', 'vergonha', 'na', 'cara', 'e', 'criar', 'um', 'app', 'descente', 'pro', 'prime', 'video']]\n",
      "[['vão', 'tirar', 'do', 'prime', 'video', 'e', 'eu', 'ainda', 'não', 'terminei', '😿😿😿', 'https//tco/uou5iq0qxp']]\n",
      "[['@hbomaxbr', 'na', 'warner', 'tinha', 'muitas', 'séries', 'legais', 'como', 'person', 'of', 'interest', 'e', 'fringe', 'fica', 'a', 'dica', 'quanto', 'ao', 'strike', 'back', 'perdi', 'as', 'esperanças', 'quem', 'sabe', 'a', 'prime', 'video']]\n",
      "[['cara', 'quem', 'inventou', 'essas', 'assinatura', 'ainetflixprime', 'video', 'etc', 'é', 'um', 'corno', 'dos', 'grandes', 'hj', 'em', 'dia', 'literalmente', 'qualquer', 'coisa', 'é', 'por', 'assinatura', 'vtnc']]\n",
      "[['impressionante', 'como', 'dawsons', 'creek', 'ainda', 'tem', 'um', 'grande', 'impacto', 'várias', 'páginas', 'no', 'ig', 'ativas', 'e', 'dedicadas', 'a', 'série', 'e', 'quando', 'chegou', 'no', 'prime', 'video', 'foi', 'uma', 'das', 'séries', 'finalizadas', 'mais', 'assistidas']]\n",
      "[['fiz', 'um', 'perfil', 'no', 'meu', 'prime', 'vídeo', 'pra', 'minha', 'mãe', 'e', 'agora', 'com', 'medo', 'de', 'ter', 'criado', 'um', 'monstro', 'do', 'streaming']]\n",
      "[['@filipusleonardo', '@eeriickk_', '@smooqyloja', 'ai', 'e', 'tenso', 'to', 'esperando', 'o', 'prime', 'video', 'faz', 'so', '2', 'dias', 'tomare', 'q', 'venha', 'tudo', 'certo']]\n",
      "[['na', 'minha', 'tv', 'a', 'prime', 'vídeo', 'é', 'super', 'bugada', 'e', 'n', 'consigo', 'mudar', 'pro', 'meu', 'perfil', 'mas', 'eu', 'assisto', 'supernatural', 'na', 'prime', 'vídeo', 'pela', 'tv', 'da', 'sala', 'porém', 'meu', 'pai', 'quase', 'n', 'me', 'deixa', 'assistir', 'mais', 'lá', 'porém', 'eu', 'tenho', 'hbo', 'e', 'lá', 'tbm', 'tem', 'supernatural', 'to', 'pensando', 'em', 'migrar', 'supernatural', 'pra', 'lá', 'pra']]\n",
      "[['assinei', 'o', 'prime', 'video', 'pra', 'assistir', 'danny', 'phantom', 'e', 'quando', 'fui', 'na', 'animação', 'ta', 'falando', 'que', 'tem', 'que', 'assinar', 'paramount', 'vsf', 'capitalismo']]\n",
      "[['procuro', 'amizades', 'sinceras', 'com', 'prime', 'vídeo', 'só', 'pq', 'tô', 'euforica', 'e', 'necessitada', 'pra', 'ver', 'as', 'piranhagem', 'do', 'desfile', 'da', 'rihanna', 'calcinhas', '😩😩😩']]\n",
      "[['eu', 'doida', 'p', 'ver', 'programa', 'de', 'culinária', 'ai', 'achei', 'um', 'de', 'confeitaria', 'na', 'netflix', 'entrei', 'no', 'prime', 'video', 'e', 'vi', 'o', 'masterchef', 'junior', 'no', 'catálogo', '🤯🤡', 'lgc', 'q', 'eu', 'vou', 'ver', 'masterchef']]\n",
      "[['alguém', 'me', 'fala', 'um', 'filme', 'bom', 'leve', 'divertido', 'q', 'tenha', 'ou', 'na', 'netflix', 'ou', 'no', 'hbo', 'max', 'ou', 'no', 'prime', 'video', 'ou', 'no', 'disney/star']]\n",
      "[['@amessquita', 'é', 'a', 'da', 'prime', 'vídeo']]\n",
      "[['sexta', 'chuvosa', 'chata', 'né', 'agora', 'vou', 'é', 'aproveitar', 'netflix', 'e', 'prime', 'video', 'irei', 'usar']]\n",
      "[['@nataliaperuzzo1', '@seriesbrasil', 'já', 'está', 'disponível', 'no', 'prime', 'vídeo', 'também']]\n",
      "[['@starzplaybr', 'essa', 'promoção', 'por', '990', 'por', '6', 'meses', 'para', 'quem', 'tem', 'assinatura', 'via', 'amazon', 'prime', 'vídeo', 'vai', 'ter', 'também']]\n",
      "[['a', 'procura', 'de', 'alguém', 'que', 'vai', 'me', 'passar', 'a', 'conta', 'do', 'prime', 'vídeo', 'sem', 'me', 'cobrar', 'nada', 'só', 'em', 'troca', 'da', 'minha', 'linda', 'amizade', 'msm']]\n",
      "[['indicação', 'do', 'dia', 'disponível', 'no', 'prime', 'vídeo', 'observadores', 'gostei', '7/10', 'https//tco/vpdkqmgd8y']]\n",
      "[['@promobooks4', 'adm', 'a', 'assinatura', 'do', 'kindle', 'é', 'incluída', 'no', 'prime', 'vídeo', 'de', '990']]\n",
      "[['@geanxz_', 'prime', 'video', 'play', 'nao', 'sei']]\n",
      "[['tô', 'começando', 'a', 'achar', 'que', 'o', 'problema', 'eh', 'meu', 'computador', 'vey', 'n', 'eh', 'possível', 'que', 'ambos', 'prime', 'video', 'hbomax', 'e', 'disney', 'travam', 'quando', 'tento', 'assistir', 'qualquer', 'coisa', 'neles', 'só', 'a', 'netflix', 'que', 'funciona', 'direito']]\n",
      "[['segundo', 'a', 'plataforma', 'justwatch', 'o', 'telecine', 'tem', 'o', 'terceiro', 'maior', 'catálogo', 'entre', 'os', 'serviços', 'de', 'streaming', 'do', 'brasil', 'com', '1950', 'títulos', 'está', 'atrás', 'da', 'netflix', '4792', 'e', 'do', 'amazon', 'prime', 'vídeo', '3827', 'logo', 'após', 'o', 'telecine', 'temos', 'hbo', 'max', '1839', 'globoplay', '1550', 'e', 'disney', '1112', 'https//tco/3jalzbhomn']]\n",
      "[['deve', 'q', 'eu', 'achei', 'q', 'tava', 'rica', 'qd', 'assinei', 'spotify', 'premium', 'netflix', 'e', 'prime', 'video', 'só', 'p', 'eu', 'usar', 'ne']]\n",
      "[['quebrando', 'a', 'cabeça', 'pra', 'saber', 'se', 'a', 'dubladora', 'de', 'cinderela', 'prime', 'video', 'é', 'a', 'mesma', 'que', 'dubla', 'a', 'blair', 'porque', 'parece', 'muito', 'ne', 'alguém', 'confirma', 'a', 'juliana', 'vasconcelos', '@florapaulita', 'rainha', 'das', 'dublagens', 'teria', 'conhecimento', '🥰']]\n"
     ]
    },
    {
     "data": {
      "text/plain": [
       "'for celula in primevideo_classfic_3_raw:\\n    celula_limpa = cleanup(celula.lower()).split()\\n    lista_primevideo_classfic_3 += celula_limpa\\n    print(lista_primevideo_classfic_3)'"
      ]
     },
     "execution_count": 30,
     "metadata": {},
     "output_type": "execute_result"
    }
   ],
   "source": [
    "#For, criando as listas limpas\n",
    "lista_primevideo_classfic_0 = []\n",
    "lista_primevideo_classfic_1 = []\n",
    "lista_primevideo_classfic_2 = []\n",
    "lista_primevideo_classfic_3 = []\n",
    "\n",
    "lista_com_todos_tuites_limpos = []\n",
    "\n",
    "#Cria a lista lista_primevideo_classfic que possui  as classificações de cada categoria\n",
    "\n",
    "for celula in primevideo_classfic_0_raw:\n",
    "    \n",
    "    celula_limpa = cleanup(celula.lower())\n",
    "    lista_com_todos_tuites_limpos += celula_limpa.split()\n",
    "    lista_primevideo_classfic_0 += celula_limpa.split()\n",
    "    \n",
    "    lista_tuites = []\n",
    "    lista_tuites.append(celula_limpa.split()) #cria uma lista com todos os tuites splitados, tá duplicando. Queremos só adicionar cada tuite como se fosse uma lista\n",
    "    #print(lista_primevideo_classfic_0)\n",
    "    \n",
    "for celula in primevideo_classfic_1_raw:\n",
    "    celula_limpa = cleanup(celula.lower())\n",
    "    lista_com_todos_tuites_limpos += celula_limpa.split()\n",
    "    lista_primevideo_classfic_1 += celula_limpa.split()\n",
    "\n",
    "    lista_tuites = []\n",
    "    lista_tuites.append(celula_limpa.split())\n",
    "    print(lista_tuites)\n",
    "    \n",
    "for celula in primevideo_classfic_2_raw:\n",
    "    celula_limpa = cleanup(celula.lower())\n",
    "    lista_com_todos_tuites_limpos += celula_limpa.split()\n",
    "    lista_primevideo_classfic_2 += celula_limpa.split()\n",
    "    \n",
    "    lista_tuites = []\n",
    "    lista_tuites.append(celula_limpa.split())\n",
    "    #print(lista_primevideo_classfic_2)\n",
    "    \n",
    "for celula in primevideo_classfic_3_raw:\n",
    "    celula_limpa = cleanup(celula.lower())\n",
    "    lista_com_todos_tuites_limpos += celula_limpa.split()\n",
    "    lista_primevideo_classfic_3 += celula_limpa.split()\n",
    "    \n",
    "    lista_tuites = []\n",
    "    lista_tuites.append(celula_limpa.split())\n",
    "    #print(lista_primevideo_classfic_3)\n",
    "\n",
    "    \n",
    "    \n",
    "'''for celula in primevideo_classfic_3_raw:\n",
    "    celula_limpa = cleanup(celula.lower()).split()\n",
    "    lista_primevideo_classfic_3 += celula_limpa\n",
    "    print(lista_primevideo_classfic_3)'''"
   ]
  },
  {
   "cell_type": "code",
   "execution_count": 31,
   "metadata": {},
   "outputs": [],
   "source": [
    "#Convertendo as tabelas para pd.Series\n",
    "classfic_0 = pd.Series(lista_primevideo_classfic_0)\n",
    "classfic_1 = pd.Series(lista_primevideo_classfic_1)\n",
    "classfic_2 = pd.Series(lista_primevideo_classfic_2)\n",
    "classfic_3 = pd.Series(lista_primevideo_classfic_3)"
   ]
  },
  {
   "cell_type": "code",
   "execution_count": 41,
   "metadata": {},
   "outputs": [
    {
     "name": "stdout",
     "output_type": "stream",
     "text": [
      "a                        42\n",
      "e                        32\n",
      "o                        31\n",
      "prime                    28\n",
      "@primevideo              28\n",
      "                         ..\n",
      "https//tco/dx3mddi0fz     1\n",
      "https//tco/u5btcfwrnn     1\n",
      "bonitinho                 1\n",
      "ligo                      1\n",
      "grave                     1\n",
      "Length: 572, dtype: int64\n"
     ]
    }
   ],
   "source": [
    "#Tabelas de contagem de ocorrencias em cada tabela, usando o value_counts()\n",
    "tabela_classific_0 = classfic_0.value_counts()\n",
    "tabela_classific_1 = classfic_1.value_counts()\n",
    "tabela_classific_2 = classfic_2.value_counts()\n",
    "tabela_classific_3 = classfic_3.value_counts() #TALVEZ COLOCAR FREQUÊNCIA RELATIVA\n",
    "\n",
    "#Juntando todos os tuítes\n",
    "todos_tuites = lista_primevideo_classfic_0 + lista_primevideo_classfic_1 + lista_primevideo_classfic_2 + lista_primevideo_classfic_3\n",
    "#Criando tabela dos tuítes usando o pd.Series\n",
    "todos_tuites_lista = pd.Series(todos_tuites)\n",
    "tabela_todos_tuites = todos_tuites_lista.value_counts()\n",
    "\n",
    "#ACHO QUE VAMOS TER QUE USAR TABELA RELATIVA PORQUE TEMOS MAIS AVALIAÇÕES EM UNS DO QUE OUTROS, VER ISSO!"
   ]
  },
  {
   "cell_type": "markdown",
   "metadata": {},
   "source": [
    "    Se P(0|tuite) > P(1|tuite) e P(0|tuite) > P(2|tuite) e P(0|tuite) > P(3|tuite):\n",
    "        é 0\n",
    "    Se P(1|tuite) > P(0|tuite) e P(1|tuite) > P(2|tuite) e P(1|tuite) > P(3|tuite):\n",
    "        é 1\n",
    "    Se P(2|tuite) > P(0|tuite) e P(2|tuite) > P(1|tuite) e P(2|tuite) > P(3|tuite):\n",
    "        é 2\n",
    "    Se P(3|tuite) > P(0|tuite) e P(3|tuite) > P(1|tuite) e P(3|tuite) > P(2|tuite):\n",
    "        é e"
   ]
  },
  {
   "cell_type": "code",
   "execution_count": 45,
   "metadata": {},
   "outputs": [
    {
     "ename": "TypeError",
     "evalue": "list indices must be integers or slices, not str",
     "output_type": "error",
     "traceback": [
      "\u001b[1;31m---------------------------------------------------------------------------\u001b[0m",
      "\u001b[1;31mTypeError\u001b[0m                                 Traceback (most recent call last)",
      "\u001b[1;32m<ipython-input-45-ee141849e1dd>\u001b[0m in \u001b[0;36m<module>\u001b[1;34m\u001b[0m\n\u001b[0;32m      8\u001b[0m     \u001b[1;32mfor\u001b[0m \u001b[0mpalavra\u001b[0m \u001b[1;32min\u001b[0m \u001b[0mtuite\u001b[0m\u001b[1;33m:\u001b[0m\u001b[1;33m\u001b[0m\u001b[1;33m\u001b[0m\u001b[0m\n\u001b[0;32m      9\u001b[0m         \u001b[1;31m#print(tabela_classific_0[0])\u001b[0m\u001b[1;33m\u001b[0m\u001b[1;33m\u001b[0m\u001b[1;33m\u001b[0m\u001b[0m\n\u001b[1;32m---> 10\u001b[1;33m         \u001b[0mP_0_dado_tuite\u001b[0m \u001b[1;33m*=\u001b[0m \u001b[0mlista_tuites\u001b[0m\u001b[1;33m[\u001b[0m\u001b[0mpalavra\u001b[0m\u001b[1;33m]\u001b[0m  \u001b[1;31m#ou sem a relativa\u001b[0m\u001b[1;33m\u001b[0m\u001b[1;33m\u001b[0m\u001b[0m\n\u001b[0m\u001b[0;32m     11\u001b[0m \u001b[0mlista_primevideo_classfic_0\u001b[0m\u001b[1;33m\u001b[0m\u001b[1;33m\u001b[0m\u001b[0m\n",
      "\u001b[1;31mTypeError\u001b[0m: list indices must be integers or slices, not str"
     ]
    }
   ],
   "source": [
    "#Começando classificador:\n",
    "\n",
    "# P_0_dado_tuite = (P_tuite_dado_0 * P_0) / P_tuite\n",
    "\n",
    "#acessa cada tuíte feito\n",
    "P_0_dado_tuite = 1\n",
    "for tuite in lista_tuites:\n",
    "    for palavra in tuite:\n",
    "        #print(tabela_classific_0[0])\n",
    "        P_0_dado_tuite *= lista_tuites[palavra]  #ou sem a relativa\n",
    "lista_primevideo_classfic_0"
   ]
  },
  {
   "cell_type": "code",
   "execution_count": 34,
   "metadata": {},
   "outputs": [
    {
     "ename": "SyntaxError",
     "evalue": "invalid syntax (<ipython-input-34-aa83ca2c9342>, line 7)",
     "output_type": "error",
     "traceback": [
      "\u001b[1;36m  File \u001b[1;32m\"<ipython-input-34-aa83ca2c9342>\"\u001b[1;36m, line \u001b[1;32m7\u001b[0m\n\u001b[1;33m    P_tuite_dado_classificacao_0 = todos_tuites_relativa[tuite] *\u001b[0m\n\u001b[1;37m                                                                  ^\u001b[0m\n\u001b[1;31mSyntaxError\u001b[0m\u001b[1;31m:\u001b[0m invalid syntax\n"
     ]
    }
   ],
   "source": [
    "#Tem que fazer para cada linha \n",
    "#CLASSIFICADOR#\n",
    "\n",
    "#passa por cada tuíte\n",
    "for tuite in todos_tuites.Treinamento:\n",
    "    #P(tuite|classificacao)\n",
    "    P_tuite_dado_classificacao_0 = todos_tuites_relativa[tuite] * \n",
    "    "
   ]
  },
  {
   "cell_type": "markdown",
   "metadata": {},
   "source": [
    "___\n",
    "### Verificando a performance do Classificador\n",
    "\n",
    "Agora você deve testar o seu classificador com a base de Testes."
   ]
  },
  {
   "cell_type": "code",
   "execution_count": null,
   "metadata": {},
   "outputs": [],
   "source": []
  },
  {
   "cell_type": "code",
   "execution_count": null,
   "metadata": {},
   "outputs": [],
   "source": []
  },
  {
   "cell_type": "code",
   "execution_count": null,
   "metadata": {},
   "outputs": [],
   "source": []
  },
  {
   "cell_type": "markdown",
   "metadata": {},
   "source": [
    "___\n",
    "### Concluindo"
   ]
  },
  {
   "cell_type": "code",
   "execution_count": null,
   "metadata": {},
   "outputs": [],
   "source": []
  },
  {
   "cell_type": "code",
   "execution_count": null,
   "metadata": {},
   "outputs": [],
   "source": []
  },
  {
   "cell_type": "code",
   "execution_count": null,
   "metadata": {},
   "outputs": [],
   "source": []
  },
  {
   "cell_type": "markdown",
   "metadata": {},
   "source": [
    "___\n",
    "### Qualidade do Classificador a partir de novas separações dos tweets entre Treinamento e Teste\n",
    "\n",
    "Caso for fazer esse item do Projeto"
   ]
  },
  {
   "cell_type": "code",
   "execution_count": null,
   "metadata": {},
   "outputs": [],
   "source": []
  },
  {
   "cell_type": "code",
   "execution_count": null,
   "metadata": {},
   "outputs": [],
   "source": []
  },
  {
   "cell_type": "code",
   "execution_count": null,
   "metadata": {},
   "outputs": [],
   "source": []
  },
  {
   "cell_type": "markdown",
   "metadata": {},
   "source": [
    "___\n",
    "## Aperfeiçoamento:\n",
    "\n",
    "Trabalhos que conseguirem pelo menos conceito B vão evoluir em conceito dependendo da quantidade de itens avançados:\n",
    "\n",
    "* IMPLEMENTOU outras limpezas e transformações que não afetem a qualidade da informação contida nos tweets. Ex: stemming, lemmatization, stopwords\n",
    "* CORRIGIU separação de espaços entre palavras e emojis ou entre emojis e emojis\n",
    "* CRIOU categorias intermediárias de relevância baseadas na probabilidade: ex.: muito relevante, relevante, neutro, irrelevante, muito irrelevante. Pelo menos quatro categorias, com adição de mais tweets na base, conforme enunciado. (OBRIGATÓRIO PARA TRIOS, sem contar como item avançado)\n",
    "* EXPLICOU porquê não pode usar o próprio classificador para gerar mais amostras de treinamento\n",
    "* PROPÔS diferentes cenários para Naïve Bayes fora do contexto do projeto\n",
    "* SUGERIU e EXPLICOU melhorias reais com indicações concretas de como implementar (indicar como fazer e indicar material de pesquisa)\n",
    "* FEZ o item 6. Qualidade do Classificador a partir de novas separações dos tweets entre Treinamento e Teste descrito no enunciado do projeto (OBRIGATÓRIO para conceitos A ou A+)"
   ]
  },
  {
   "cell_type": "markdown",
   "metadata": {},
   "source": [
    "___\n",
    "## Referências"
   ]
  },
  {
   "cell_type": "markdown",
   "metadata": {},
   "source": [
    "[Naive Bayes and Text Classification](https://arxiv.org/pdf/1410.5329.pdf)  **Mais completo**\n",
    "\n",
    "[A practical explanation of a Naive Bayes Classifier](https://monkeylearn.com/blog/practical-explanation-naive-bayes-classifier/) **Mais simples**"
   ]
  },
  {
   "cell_type": "code",
   "execution_count": null,
   "metadata": {},
   "outputs": [],
   "source": []
  }
 ],
 "metadata": {
  "kernelspec": {
   "display_name": "Python 3",
   "language": "python",
   "name": "python3"
  },
  "language_info": {
   "codemirror_mode": {
    "name": "ipython",
    "version": 3
   },
   "file_extension": ".py",
   "mimetype": "text/x-python",
   "name": "python",
   "nbconvert_exporter": "python",
   "pygments_lexer": "ipython3",
   "version": "3.7.6"
  }
 },
 "nbformat": 4,
 "nbformat_minor": 4
}
